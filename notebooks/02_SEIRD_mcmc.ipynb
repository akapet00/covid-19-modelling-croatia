{
 "cells": [
  {
   "cell_type": "markdown",
   "metadata": {},
   "source": [
    "# SEIRD Approach in Modeling of Novel Coronavirus Disease 2019 Dynamics\n",
    "## Part 1"
   ]
  },
  {
   "cell_type": "markdown",
   "metadata": {},
   "source": [
    "**Overview.** This report serves as a high-level overview of the compartmental epidemiological deterministic model, more concretely, Susceptible-Exposed-Infected-Recovered-Deceased (SEIRD) model, detail mathematical description is to be found elsewhere. Additionaly, uncertainty quantification of the SEIRD output is achieved using Markov chain Monte Carlo (MCMC) method. The goal is to examine how the variability of input epidemiological parameters affects the overall output of the model by treating input epidemiological parameters as random variables and recast the original deterministic model as stochastic model without affecting the configuration of the model itself.\n",
    "\n",
    "**SEIRD model**\n",
    "\\begin{aligned}\n",
    "\\frac{S(t + \\Delta t)}{\\Delta t} &= -\\frac{\\beta \\cdot S(t) \\cdot I(t)}{N} - \\langle \\delta \\rangle \\cdot S(t) \\cdot E(t) \\\\\n",
    "\\frac{E(t + \\Delta t)}{\\Delta t} &= \\frac{\\beta \\cdot S(t) \\cdot I(t)}{N} - \\langle \\alpha \\rangle \\cdot E(t) + \\langle \\delta \\rangle \\cdot S(t) \\cdot E(t) \\\\\n",
    "\\frac{I(t + \\Delta t)}{\\Delta t} &= \\langle \\alpha \\rangle \\cdot E(t) - \\langle \\gamma \\rangle \\cdot I(t) - \\mu \\cdot I(t) \\\\\n",
    "\\frac{R(t + \\Delta t)}{\\Delta t} &= \\langle \\gamma \\rangle \\cdot I(t) \\\\\n",
    "\\frac{D(t + \\Delta t)}{\\Delta t} &= \\langle \\mu \\rangle \\cdot I(t) \\\\ \\\\\n",
    "\\beta &= 0.5 \\\\\n",
    "N &= S(t) + E(t) + I(t) + R(t) + D(t)\n",
    "\\end{aligned}\n",
    "\n",
    "where $\\beta$ is the transition  or  infectious  rate, $\\gamma$ is the recovery rate and is determined by the average duration of an infection, $\\alpha$ is the incubation rate or the reciprocal value of the incubation period. Since, for  the  case  of  COVID-19  disease,  an  exposed individual is infectious even in the incubation period, $\\delta$ represents the direct transition rate between susceptible and exposed compartment. Finally, $\\mu$ is the mortality rate.\n",
    "\n",
    "Each compartment is a function of time, where the sum of all compartments yields to the population number.\n",
    "\n",
    "Unknown epidemiological input parameters, $\\delta$, $\\alpha$, $\\gamma$ and $\\mu$, are all treated as random variables with expected values obtained through inverse system identification using L-BFGS-B optimization of the loss function defined as the difference between *a priori* known confirmed numbers of infectious, recovered and deceased individuals and associated predicted curves obtained via the SEIRD model. The variation coefficient (standard deviation or spread) is defined arbitrarily and is fixed to $0.2$ for the further analysis."
   ]
  },
  {
   "cell_type": "code",
   "execution_count": null,
   "metadata": {},
   "outputs": [],
   "source": [
    "import os\n",
    "import datetime\n",
    "\n",
    "from coropy.compartmental_models import SEIRDModel\n",
    "from matplotlib import dates as mdates\n",
    "import matplotlib.pyplot as plt\n",
    "import numpy as np\n",
    "import pandas as pd\n",
    "from scipy.integrate import solve_ivp\n",
    "\n",
    "import utils"
   ]
  },
  {
   "cell_type": "code",
   "execution_count": null,
   "metadata": {},
   "outputs": [],
   "source": [
    "np.random.seed(42)  # for the reproducibility of results\n",
    "utils.configure(grid=False)  # configure paper-quality plots\n",
    "b = utils.default_colors('blue')\n",
    "o = utils.default_colors('orange')\n",
    "g = utils.default_colors('green')\n",
    "r = utils.default_colors('red')\n",
    "p = utils.default_colors('purple')"
   ]
  },
  {
   "cell_type": "code",
   "execution_count": null,
   "metadata": {},
   "outputs": [],
   "source": [
    "# all data\n",
    "DATA_DIR = os.path.join(os.pardir, 'data')\n",
    "FILE_NAME = '1st_wave_data_cro.csv' \n",
    "FILE_PATH = os.path.join(DATA_DIR, FILE_NAME)\n",
    "df = pd.read_csv(FILE_PATH)\n",
    "\n",
    "# derived data\n",
    "cum_positives = np.cumsum(df.confirmed_positives.values)\n",
    "cum_recovered = df.estimate_recovered.values\n",
    "cum_deceased = np.cumsum(df.confirmed_deceased.values)\n",
    "tests = df.total_tests.values\n",
    "active = cum_positives - cum_recovered - cum_deceased"
   ]
  },
  {
   "cell_type": "code",
   "execution_count": null,
   "metadata": {},
   "outputs": [],
   "source": [
    "# initial conditions\n",
    "S0 = cum_positives[-1] + cum_deceased[-1]\n",
    "E0 = 10\n",
    "I0 = 1\n",
    "R0 = 0\n",
    "D0 = 0\n",
    "IC = [S0, E0, I0, R0, D0]\n",
    "\n",
    "# dates\n",
    "t = np.arange(cum_positives.size)\n",
    "start_dt = datetime.datetime(2020, 2, 25)\n",
    "end_dt = start_dt + datetime.timedelta(int(t.max())+1)\n",
    "dates = mdates.drange(start_dt, end_dt, datetime.timedelta(days=1))\n",
    "\n",
    "# transmission rate\n",
    "beta = 0.5\n",
    "\n",
    "# system of odes\n",
    "def SEIRD_ode(t, y, delta, alpha, gamma, mu):\n",
    "    S, E, I, R, D = y\n",
    "    N = S + E + I + R + D\n",
    "    return [\n",
    "        -beta*S*I/N - delta*S*E, \n",
    "        beta*S*I/N - alpha*E + delta*S*E, \n",
    "        alpha*E - gamma*I - mu*I, \n",
    "        gamma*I,\n",
    "        mu*I,\n",
    "    ]\n",
    "\n",
    "model = SEIRDModel(ode_system=SEIRD_ode)\n",
    "params, loss = model.fit(cum_positives, cum_recovered, cum_deceased, IC, guess=[0.1, 0.1, 0.1, 0.1])\n",
    "S, E, I, R, D = model.simulate()"
   ]
  },
  {
   "cell_type": "code",
   "execution_count": null,
   "metadata": {},
   "outputs": [],
   "source": [
    "# metropolis-hastings\n",
    "\n",
    "n_iters = 1000\n",
    "I_sampled = np.zeros(shape=(n_iters, t.size))\n",
    "\n",
    "for i in range(n_iters):\n",
    "    noisy_S0 = np.random.normal(loc=S0, scale=0.2*S0)\n",
    "    noisy_E0 = np.random.normal(loc=E0, scale=0.2*E0)\n",
    "    noisy_params = np.random.normal(loc=params, scale=0.2*params, size=params.size)\n",
    "    noisy_sol = solve_ivp(\n",
    "        SEIRD_ode,\n",
    "        t_span=(0, int(t[-1])),\n",
    "        y0=[noisy_S0, noisy_E0, I0, R0, D0],\n",
    "        args=noisy_params,\n",
    "        method='RK45',\n",
    "        t_eval=t,\n",
    "        vectorized=True,\n",
    "    )\n",
    "    if np.mean(noisy_sol.y[2] / I):\n",
    "        I = noisy_sol.y[2]\n",
    "    \n",
    "    I_sampled[i, :] = I  "
   ]
  },
  {
   "cell_type": "code",
   "execution_count": null,
   "metadata": {},
   "outputs": [],
   "source": [
    "I_exp = np.mean(I_sampled, axis=0)\n",
    "I_err = np.std(I_sampled, axis=0)"
   ]
  },
  {
   "cell_type": "code",
   "execution_count": null,
   "metadata": {},
   "outputs": [],
   "source": [
    "pcr_sens = 0.85\n",
    "pcr_spec = 0.95\n",
    "active_lb_ci, active_lb, active_ub, active_ub_ci = SEIRDModel.calculate_ci(\n",
    "    pcr_sens,\n",
    "    pcr_spec,\n",
    "    df.confirmed_positives.values,\n",
    "    cum_recovered + cum_deceased,\n",
    "    tests)"
   ]
  },
  {
   "cell_type": "code",
   "execution_count": null,
   "metadata": {},
   "outputs": [],
   "source": [
    "sre_fit = np.sqrt(np.mean((active - I_exp)**2))"
   ]
  },
  {
   "cell_type": "code",
   "execution_count": null,
   "metadata": {},
   "outputs": [],
   "source": [
    "fig = plt.figure()\n",
    "\n",
    "# active\n",
    "eb = plt.errorbar(dates, active, \n",
    "                  yerr=np.r_[\n",
    "                      (active-active_lb).reshape(1, -1),\n",
    "                      (active_ub-active).reshape(1, -1)],\n",
    "                  markevery=5,\n",
    "                  errorevery=5, capsize=3,\n",
    "                  marker='s', linestyle='None', mew=1, mfc='none',\n",
    "                  c=p,\n",
    "                  label=f'$I[t]$')\n",
    "exp = plt.plot(dates, I_exp, '-', c=b, alpha=0.5, label=f'$\\\\langle \\\\hat{{I}}(t) \\\\rangle$')\n",
    "plt.plot(dates, I_sampled.T, c=b, alpha=0.01)\n",
    "plt.ylabel('$N$')\n",
    "plt.legend()\n",
    "_ = fig.gca().xaxis.set_major_formatter(mdates.DateFormatter('%Y/%m/%d'))\n",
    "_ = fig.gca().xaxis.set_major_locator(mdates.DayLocator(bymonthday=[10, 25]))\n",
    "_ = plt.gcf().autofmt_xdate()\n",
    "plt.yticks([0, 1000, 2000, 3000])\n",
    "plt.ylim([-250, 3000])\n",
    "plt.show()\n",
    "fname = f'MCMC_SEIRD_rigid'\n",
    "fig.savefig(fname=os.path.join(os.pardir, 'figures', fname + '.jpeg'),\n",
    "            format='jpeg', bbox_inches='tight', dpi=2000)\n",
    "fig.savefig(fname=os.path.join(os.pardir, 'figures', fname + '.pdf'),\n",
    "            format='pdf', bbox_inches='tight')"
   ]
  },
  {
   "cell_type": "code",
   "execution_count": null,
   "metadata": {},
   "outputs": [],
   "source": []
  }
 ],
 "metadata": {
  "kernelspec": {
   "display_name": "Python 3 (ipykernel)",
   "language": "python",
   "name": "python3"
  },
  "language_info": {
   "codemirror_mode": {
    "name": "ipython",
    "version": 3
   },
   "file_extension": ".py",
   "mimetype": "text/x-python",
   "name": "python",
   "nbconvert_exporter": "python",
   "pygments_lexer": "ipython3",
   "version": "3.9.12"
  }
 },
 "nbformat": 4,
 "nbformat_minor": 4
}
