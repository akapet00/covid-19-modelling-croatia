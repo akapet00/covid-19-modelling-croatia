{
 "cells": [
  {
   "cell_type": "markdown",
   "metadata": {},
   "source": [
    "# Analytic Modeling of the Recurrent Outbreak of the Novel Coronavirus Disease 2019 Epidemics"
   ]
  },
  {
   "cell_type": "markdown",
   "metadata": {},
   "source": [
    "**Description.** This report is an attempt at analytical modeling of repeated outbreaks of the Coronavirus Disease 2019 (COVID-19) epidemic for the use case of The Republic of Croatia. The idea of the mentioned approach lies in observing the epidemic and the sudden jumps and falls of the total number of actively infected individuals as a series of *pulses* which represent the current presence of the virus in the population, conditioned by numerous factors. Results of the report show the direct dependence of the number of actively infected individuals on the effective reproduction number immediately before. Also, an exceptional fit of the dynamics of the number of active cases with the series of Heidler functions is achived through CoroPy, Python package for COVID-19 epidemics modeling."
   ]
  },
  {
   "cell_type": "code",
   "execution_count": null,
   "metadata": {},
   "outputs": [],
   "source": [
    "import os\n",
    "import datetime as dt\n",
    "\n",
    "from coropy.growth_models import GrowthCOVIDModel\n",
    "from coropy.compartmental_models import SEIRDModel\n",
    "import coropy.reproduction_rate as R\n",
    "import matplotlib\n",
    "import matplotlib.pyplot as plt\n",
    "import numpy as np\n",
    "import pandas as pd\n",
    "\n",
    "import utils"
   ]
  },
  {
   "cell_type": "code",
   "execution_count": null,
   "metadata": {},
   "outputs": [],
   "source": [
    "# configure plotting\n",
    "utils.configure(grid=False)\n",
    "hex_blue = utils.default_colors('blue')\n",
    "hex_red = utils.default_colors('red')\n",
    "hex_purple = utils.default_colors('purple')"
   ]
  },
  {
   "cell_type": "code",
   "execution_count": null,
   "metadata": {},
   "outputs": [],
   "source": [
    "def extract_active_cases(start, end, country):\n",
    "    cases = pd.read_csv(os.path.join(os.pardir, 'data', 'international_cases.csv'))\n",
    "    cases['Date'] = pd.to_datetime(cases['Date'])\n",
    "    cases_per_country = cases[(cases['Country'] == country)\n",
    "                              & (cases['Date'] >= start)\n",
    "                              & (cases['Date'] <= end)]\n",
    "    cc = cases_per_country['Confirmed'].to_numpy()\n",
    "    rc = cases_per_country['Recovered'].to_numpy()\n",
    "    dc = cases_per_country['Deaths'].to_numpy()\n",
    "    active = cc - rc - dc\n",
    "    return active, cc, rc, dc"
   ]
  },
  {
   "cell_type": "code",
   "execution_count": null,
   "metadata": {},
   "outputs": [],
   "source": [
    "start_date = dt.datetime(2020, 2, 25)\n",
    "end_date = dt.datetime(2021, 7, 2)\n",
    "active, cum_positives, cum_recovered, cum_deceased = extract_active_cases(start_date, end_date, 'Croatia')"
   ]
  },
  {
   "cell_type": "code",
   "execution_count": null,
   "metadata": {},
   "outputs": [],
   "source": [
    "# start of different epi waves\n",
    "eff_dates=[dt.datetime(2020, 2, 25), dt.datetime(2020, 6, 1), dt.datetime(2020, 8, 1),  # initial outbreak and first wave\n",
    "           dt.datetime(2020, 10, 1),  # second wave\n",
    "           dt.datetime(2021, 2, 15)]  # third wave"
   ]
  },
  {
   "cell_type": "markdown",
   "metadata": {},
   "source": [
    "## 1 Heidler function"
   ]
  },
  {
   "cell_type": "code",
   "execution_count": null,
   "metadata": {},
   "outputs": [],
   "source": [
    "def heidler(t, t1, t2, n, I0):\n",
    "    xn = np.sign(t / t1) * np.abs(t / t1) ** n\n",
    "    x = xn / (1 + xn)\n",
    "    y = np.exp(-t / t2)\n",
    "    return I0 * x * y"
   ]
  },
  {
   "cell_type": "code",
   "execution_count": null,
   "metadata": {},
   "outputs": [],
   "source": [
    "X = []\n",
    "Y = []\n",
    "\n",
    "# past wave(s)\n",
    "start_idx = 0\n",
    "i = 0\n",
    "amplitude = 0\n",
    "for wave_start, wave_end in zip(eff_dates[:-1], eff_dates[1:]):\n",
    "    end_idx = start_idx+abs((wave_end - wave_start).days)\n",
    "    model = GrowthCOVIDModel(heidler, normalize=True, calc_ci=False)\n",
    "    model.fit(active[start_idx:end_idx])\n",
    "    x, fitted = model.get_fitted\n",
    "    X.extend(x)\n",
    "    Y.extend(amplitude + fitted)\n",
    "    if i == 3:\n",
    "        amplitude += fitted[-1]\n",
    "    start_idx = end_idx  # update indexing\n",
    "    i += 1\n",
    "\n",
    "# current wave   \n",
    "model = GrowthCOVIDModel(heidler, normalize=True, calc_ci=False)\n",
    "model.fit(active[start_idx:])\n",
    "x, fitted = model.get_fitted\n",
    "X.extend(x)\n",
    "Y.extend(amplitude - fitted[0] + fitted)"
   ]
  },
  {
   "cell_type": "code",
   "execution_count": null,
   "metadata": {},
   "outputs": [],
   "source": [
    "# goodness-of-fit\n",
    "sre_fit = np.sqrt(np.mean((active - Y)**2))\n",
    "sre_fit"
   ]
  },
  {
   "cell_type": "code",
   "execution_count": null,
   "metadata": {},
   "outputs": [],
   "source": [
    "# dates\n",
    "dates = matplotlib.dates.drange(start_date, end_date + dt.timedelta(1), dt.timedelta(days=1))"
   ]
  },
  {
   "cell_type": "code",
   "execution_count": null,
   "metadata": {},
   "outputs": [],
   "source": [
    "fig, ax1 = plt.subplots()\n",
    "ax1.plot(dates, active, marker='o', markersize=4, linestyle='none', c=hex_purple, markevery=4, label='$I[t]$')\n",
    "ax1.plot(dates, Y, c=hex_blue, label=f'$\\\\hat I(t)$')\n",
    "ax1.tick_params(axis='y', labelcolor=hex_blue)\n",
    "ax1.set_ylabel('$N$', color=hex_blue)\n",
    "ax1.set_yticks([0, 10000, 20000, 30000])\n",
    "ax1.set_ylim([-2500, 30000])\n",
    "ax1.legend(loc='upper left')\n",
    "\n",
    "ax2 = ax1.twinx()\n",
    "ax2.plot(dates[:-15-3+1][::12], R._estimate(cum_positives, 15, 3)[::12], color='gray', linestyle='-', marker='s', markersize=3, label='$R_t$(t)')\n",
    "ax2.axhline(y=1, linestyle='--', linewidth=1, c='gray')\n",
    "ax2.tick_params(axis='y', labelcolor='gray')\n",
    "ax2.set_ylabel('$R_t$', color='gray')\n",
    "ax2.set_yticks([0, 1, 2, 3])\n",
    "ax2.set_ylim([-0.25, 3])\n",
    "ax2.legend(loc='upper right')\n",
    "\n",
    "fig.tight_layout()\n",
    "_ = fig.gca().xaxis.set_major_formatter(matplotlib.dates.DateFormatter('%Y/%m/%d'))\n",
    "_ = fig.gca().xaxis.set_major_locator(matplotlib.dates.MonthLocator(bymonth=[1, 4, 7, 10]))\n",
    "_ = plt.gcf().autofmt_xdate()\n",
    "plt.show()\n",
    "\n",
    "fname = f'multiwave_Heidler'\n",
    "fig.savefig(fname=os.path.join(os.pardir, 'figures', fname + '.png'),\n",
    "            format='png', bbox_inches='tight', dpi=1000)"
   ]
  },
  {
   "cell_type": "markdown",
   "metadata": {},
   "source": [
    "## 2 SEIRD model"
   ]
  },
  {
   "cell_type": "code",
   "execution_count": null,
   "metadata": {},
   "outputs": [],
   "source": [
    "start_date = dt.datetime(2020, 2, 25)\n",
    "end_date = dt.datetime(2021, 7, 1)\n",
    "active, cum_positives, cum_recovered, cum_deceased = extract_active_cases(start_date, end_date, 'Croatia')\n",
    "\n",
    "# start of different epi waves\n",
    "eff_dates=[dt.datetime(2020, 2, 25), dt.datetime(2020, 6, 6), dt.datetime(2020, 8, 8),  # initial outbreak and first wave\n",
    "           dt.datetime(2020, 10, 10),  # second wave\n",
    "           dt.datetime(2021, 2, 20)]  # third wave\n",
    "\n",
    "# dates\n",
    "dates = matplotlib.dates.drange(start_date, end_date + dt.timedelta(1), dt.timedelta(days=1))"
   ]
  },
  {
   "cell_type": "code",
   "execution_count": null,
   "metadata": {},
   "outputs": [],
   "source": [
    "eff_population_scaler = 1\n",
    "first_wave_eff_population = 2200\n",
    "S0 = first_wave_eff_population * eff_population_scaler\n",
    "E0 = 3 * cum_positives[0]\n",
    "I0 = cum_positives[0]\n",
    "R0 = cum_recovered[0]\n",
    "D0 = cum_deceased[0]\n",
    "IC = (S0, E0, I0, R0, D0)\n",
    "\n",
    "S_tot, E_tot, I_tot, R_tot, D_tot = [], [], [], [], []\n",
    "\n",
    "# past wave(s)\n",
    "start_idx = 0\n",
    "i = 0\n",
    "for start_date, end_date in zip(eff_dates[:-1], eff_dates[1:]):\n",
    "    end_idx = start_idx+abs((end_date - start_date).days)\n",
    "    model = SEIRDModel()\n",
    "    _, _ = model.fit(cum_positives[start_idx:end_idx],\n",
    "                     cum_recovered[start_idx:end_idx],\n",
    "                     cum_deceased[start_idx:end_idx],\n",
    "                     IC)\n",
    "    (S, E, I, R, D) = model.simulate()\n",
    "    S_tot.extend(S.tolist())\n",
    "    E_tot.extend(E.tolist())\n",
    "    I_tot.extend(I.tolist())\n",
    "    R_tot.extend(R.tolist())\n",
    "    D_tot.extend(D.tolist())\n",
    "    \n",
    "    if i < 2:\n",
    "        eff_population_scaler += 1\n",
    "    else:\n",
    "        eff_population_scaler += 10\n",
    "    S0 = S0 * eff_population_scaler\n",
    "    IC = (S0, 5 * I[-1], I[-1], R[-1], D[-1])  # update initial conditions\n",
    "    start_idx = end_idx  # update indexing\n",
    "    i += 1\n",
    "\n",
    "# current wave   \n",
    "model = SEIRDModel()\n",
    "IC = (0.07 * S0, 5 * I[-1], I[-1], R[-1], D[-1])\n",
    "_, _ = model.fit(cum_positives[start_idx:],\n",
    "                 cum_recovered[start_idx:],\n",
    "                 cum_deceased[start_idx:],\n",
    "                 IC)\n",
    "(S, E, I, R, D) = model.simulate()\n",
    "S_tot.extend(S.tolist())\n",
    "E_tot.extend(E.tolist())\n",
    "I_tot.extend(I.tolist())\n",
    "R_tot.extend(R.tolist())\n",
    "D_tot.extend(D.tolist())"
   ]
  },
  {
   "cell_type": "code",
   "execution_count": null,
   "metadata": {},
   "outputs": [],
   "source": [
    "# goodness-of-fit\n",
    "sre_fit = np.sqrt(np.mean((active - I_tot)**2))\n",
    "sre_fit"
   ]
  },
  {
   "cell_type": "code",
   "execution_count": null,
   "metadata": {},
   "outputs": [],
   "source": [
    "# visualize\n",
    "fig, ax = plt.subplots()\n",
    "ax.plot(dates, active, marker='o', markersize=4, linestyle='none', c=hex_purple, markevery=3, label='$I[t]$')\n",
    "ax.plot(dates, I_tot, c=hex_blue, label=f'$\\\\hat I(t)$')\n",
    "ax.tick_params(axis='y')\n",
    "ax.set_ylabel('$N$')\n",
    "ax.set_yticks([0, 10000, 20000, 30000])\n",
    "ax.set_ylim([-3000, 35000])\n",
    "ax.legend(loc='upper left')\n",
    "fig.tight_layout()\n",
    "\n",
    "_ = fig.gca().xaxis.set_major_formatter(matplotlib.dates.DateFormatter('%Y/%m/%d'))\n",
    "_ = fig.gca().xaxis.set_major_locator(matplotlib.dates.MonthLocator(bymonth=[1, 4, 7, 10]))\n",
    "_ = plt.gcf().autofmt_xdate()\n",
    "plt.show()\n",
    "\n",
    "fname = f'multiwave_SEIRD'\n",
    "fig.savefig(fname=os.path.join(os.pardir, 'figures', fname + '.png'),\n",
    "            format='png', bbox_inches='tight', dpi=1000)"
   ]
  },
  {
   "cell_type": "code",
   "execution_count": null,
   "metadata": {},
   "outputs": [],
   "source": []
  }
 ],
 "metadata": {
  "kernelspec": {
   "display_name": "Python 3 (ipykernel)",
   "language": "python",
   "name": "python3"
  },
  "language_info": {
   "codemirror_mode": {
    "name": "ipython",
    "version": 3
   },
   "file_extension": ".py",
   "mimetype": "text/x-python",
   "name": "python",
   "nbconvert_exporter": "python",
   "pygments_lexer": "ipython3",
   "version": "3.9.12"
  }
 },
 "nbformat": 4,
 "nbformat_minor": 4
}
