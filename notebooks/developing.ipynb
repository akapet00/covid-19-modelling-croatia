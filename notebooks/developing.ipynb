{
 "cells": [
  {
   "cell_type": "code",
   "execution_count": 1,
   "metadata": {},
   "outputs": [],
   "source": [
    "import os\n",
    "\n",
    "import pandas as pd\n",
    "import numpy as np\n",
    "np.random.seed(42)\n",
    "import matplotlib.pyplot as plt\n",
    "from matplotlib import dates as mdates\n",
    "from scipy.integrate import solve_ivp\n",
    "from scipy.optimize import curve_fit"
   ]
  },
  {
   "cell_type": "code",
   "execution_count": 2,
   "metadata": {},
   "outputs": [],
   "source": [
    "# all data\n",
    "DATA_DIR = 'data'\n",
    "FILE_NAME = 'initial_timeseries_SEIRD.csv' \n",
    "FILE_PATH = os.path.join(os.pardir, DATA_DIR, FILE_NAME)\n",
    "df = pd.read_csv(FILE_PATH)\n",
    "\n",
    "# derived data\n",
    "cum_positives = np.cumsum(df.confirmed_positives.values)\n",
    "cum_recovered = df.estimate_recovered.values\n",
    "cum_deceased = np.cumsum(df.confirmed_deceased.values)"
   ]
  },
  {
   "cell_type": "code",
   "execution_count": 3,
   "metadata": {},
   "outputs": [],
   "source": [
    "# solution domain\n",
    "t = np.arange(0, cum_positives.size)"
   ]
  },
  {
   "cell_type": "code",
   "execution_count": 4,
   "metadata": {},
   "outputs": [
    {
     "data": {
      "image/png": "[encoded data removed]",
      "text/plain": [
       "<Figure size 432x288 with 1 Axes>"
      ]
     },
     "metadata": {
      "needs_background": "light"
     },
     "output_type": "display_data"
    }
   ],
   "source": [
    "plt.plot(t, cum_positives, label='cum pos')\n",
    "plt.plot(t, cum_recovered, label='cum rec')\n",
    "plt.plot(t, cum_deceased, label='cum dcs')\n",
    "plt.legend()\n",
    "plt.show()"
   ]
  },
  {
   "cell_type": "code",
   "execution_count": 5,
   "metadata": {},
   "outputs": [
    {
     "data": {
      "text/plain": [
       "[2306.0, 10, 1, 0, 0]"
      ]
     },
     "execution_count": 5,
     "metadata": {},
     "output_type": "execute_result"
    }
   ],
   "source": [
    "# initial conditions\n",
    "S0 = cum_positives[-1] + cum_deceased[-1]\n",
    "E0 = 10\n",
    "I0 = 1\n",
    "R0 = 0\n",
    "D0 = 0\n",
    "IC = [S0, E0, I0, R0, D0]\n",
    "IC"
   ]
  },
  {
   "cell_type": "code",
   "execution_count": 17,
   "metadata": {},
   "outputs": [],
   "source": [
    "# ode system\n",
    "def SEIRD(t, y, beta, delta, alpha, gamma, mu):\n",
    "    S, E, I, R, D = y\n",
    "    N = S + E + I + R + D\n",
    "    return [\n",
    "        -beta*S*I/N - delta*S*E, \n",
    "        beta*S*I/N - alpha*E + delta*S*E, \n",
    "        alpha*E - gamma*I - mu*I, \n",
    "        gamma*I,\n",
    "        mu*I,\n",
    "    ]\n",
    "\n",
    "# wrapper for curve_fit\n",
    "def solve_ivp_wrapper(t, beta, delta, alpha, gamma, mu):\n",
    "    sol = solve_ivp(\n",
    "        SEIRD, \n",
    "        t_span=(0, t.size), \n",
    "        y0=IC, \n",
    "        args=(beta, delta, alpha, gamma, mu),\n",
    "        t_eval=np.arange(0, t.size), \n",
    "        method='RK45', \n",
    "        vectorized=True,\n",
    "    )\n",
    "    return sol.y[2].ravel()"
   ]
  },
  {
   "cell_type": "code",
   "execution_count": 21,
   "metadata": {},
   "outputs": [],
   "source": [
    "input_data = cum_positives - cum_deceased - cum_recovered"
   ]
  },
  {
   "cell_type": "code",
   "execution_count": null,
   "metadata": {},
   "outputs": [],
   "source": [
    "popt, pcov = curve_fit(solve_ivp_wrapper, t, input_data, p0=[0.4, 0.001, 0.1, 0.1, 0.1])"
   ]
  },
  {
   "cell_type": "code",
   "execution_count": 37,
   "metadata": {},
   "outputs": [],
   "source": [
    "sol = solve_ivp(\n",
    "        SIR, \n",
    "        t_span=(0, t.size), \n",
    "        y0=IC, \n",
    "        args=popt,\n",
    "        t_eval=np.arange(0, t.size), \n",
    "        method='RK45', \n",
    "        vectorized=True,)"
   ]
  },
  {
   "cell_type": "code",
   "execution_count": 42,
   "metadata": {},
   "outputs": [
    {
     "data": {
      "text/plain": [
       "[<matplotlib.lines.Line2D at 0x7f3ec096c690>]"
      ]
     },
     "execution_count": 42,
     "metadata": {},
     "output_type": "execute_result"
    },
    {
     "data": {
      "image/png": "[encoded data removed]",
      "text/plain": [
       "<Figure size 432x288 with 1 Axes>"
      ]
     },
     "metadata": {
      "needs_background": "light"
     },
     "output_type": "display_data"
    }
   ],
   "source": [
    "plt.plot(t, sol.y[2])"
   ]
  },
  {
   "cell_type": "code",
   "execution_count": null,
   "metadata": {},
   "outputs": [],
   "source": []
  },
  {
   "cell_type": "code",
   "execution_count": 82,
   "metadata": {},
   "outputs": [],
   "source": [
    "import numpy as np\n",
    "from scipy.integrate import solve_ivp\n",
    "\n",
    "x = np.linspace(0, 1)\n",
    "\n",
    "def f(x, y, a):\n",
    "    '''\n",
    "    dy/dx = y(x)\n",
    "    '''\n",
    "    return [a*y[0]]\n",
    "\n",
    "def analytic_sol(x, a):\n",
    "    return np.exp(a*x)\n",
    "\n",
    "y = analytic_sol(x, 2)\n",
    "y_data = y + np.random.uniform(-0.5, 0.5, y.size)"
   ]
  },
  {
   "cell_type": "code",
   "execution_count": 83,
   "metadata": {},
   "outputs": [],
   "source": [
    "def solve_ivp_wrapper(x, a):\n",
    "    sol = solve_ivp(\n",
    "        f, \n",
    "        t_span=(x.min(), x.max()), \n",
    "        args=(a, ),\n",
    "        t_eval=x,\n",
    "        y0=np.array([1]),\n",
    "        method='RK45', \n",
    "        vectorized=True,)\n",
    "    return sol.y.ravel()"
   ]
  },
  {
   "cell_type": "code",
   "execution_count": 84,
   "metadata": {},
   "outputs": [],
   "source": [
    "from scipy.optimize import curve_fit"
   ]
  },
  {
   "cell_type": "code",
   "execution_count": 85,
   "metadata": {},
   "outputs": [],
   "source": [
    "popt, pcov = curve_fit(solve_ivp_wrapper, x, y_data)"
   ]
  },
  {
   "cell_type": "code",
   "execution_count": 86,
   "metadata": {},
   "outputs": [
    {
     "data": {
      "text/plain": [
       "array([1.9841986])"
      ]
     },
     "execution_count": 86,
     "metadata": {},
     "output_type": "execute_result"
    }
   ],
   "source": [
    "popt"
   ]
  },
  {
   "cell_type": "code",
   "execution_count": null,
   "metadata": {},
   "outputs": [],
   "source": []
  },
  {
   "cell_type": "code",
   "execution_count": null,
   "metadata": {},
   "outputs": [],
   "source": []
  }
 ],
 "metadata": {
  "kernelspec": {
   "display_name": "Python 3",
   "language": "python",
   "name": "python3"
  },
  "language_info": {
   "codemirror_mode": {
    "name": "ipython",
    "version": 3
   },
   "file_extension": ".py",
   "mimetype": "text/x-python",
   "name": "python",
   "nbconvert_exporter": "python",
   "pygments_lexer": "ipython3",
   "version": "3.7.6"
  }
 },
 "nbformat": 4,
 "nbformat_minor": 4
}
