{
 "cells": [
  {
   "cell_type": "markdown",
   "metadata": {},
   "source": [
    "# Estimation of the Basic Reproduction Number for the Initial Outbreak of the Coronavirus Disease 2019 in Croatia"
   ]
  },
  {
   "cell_type": "markdown",
   "metadata": {},
   "source": [
    "**Abstract.** This notebook overviews three different methods of estimating the basic reproduction number ($R_0$) for the novel Coronavirus Disease 2019 (COVID-19). First method is performed in a *brute-force* manner where the expected ratio of secondary infections and the number of current infections is observed. Secondary infections are defined as the total number of infections $n$ time points (most often days) shifted from the currently observed time point. In this case, the main assumption is that the observed population is unvaccinated, without innate immunity, homogeneous and well mixed where no changes in the population size happen over time, i.e. population borders are closed and vital dynamcis are not taken into an account. Outlined assumptions are well aligned with the second approach of estimating $R_0$, which is based on the fitting of the measured data (daily number of infections, recoveries and deaths caused by COVID-19) to the compartmental epidemiological deterministic model, in this case,  Susceptible-Exposed-Infected-Removed (SEIR) and Susceptible-Exposed-Infected-Recovered-Deceased (SEIRD) models, in-detail overview of both models is carried out subsequently in Section 2. Finally, the third method is based on empirical observations of the contact rate which represents the probability of transmitting disease between a susceptible and an infectious individual."
   ]
  },
  {
   "cell_type": "code",
   "execution_count": null,
   "metadata": {},
   "outputs": [],
   "source": [
    "import os\n",
    "import datetime as dt\n",
    "\n",
    "from coropy.compartmental_models import SEIRModel\n",
    "from coropy.compartmental_models import SEIRDModel\n",
    "import coropy.reproduction_rate as R\n",
    "import matplotlib.pyplot as plt\n",
    "import numpy as np\n",
    "import pandas as pd\n",
    "from scipy.optimize import curve_fit\n",
    "\n",
    "import utils"
   ]
  },
  {
   "cell_type": "code",
   "execution_count": null,
   "metadata": {},
   "outputs": [],
   "source": [
    "np.random.seed(42)\n",
    "utils.configure()"
   ]
  },
  {
   "cell_type": "code",
   "execution_count": null,
   "metadata": {},
   "outputs": [],
   "source": [
    "# DATA LOAD\n",
    "\n",
    "DATA_DIR = os.path.join(os.pardir, 'data')\n",
    "FILE_NAMES = ['1st_wave_data_cro.csv',\n",
    "              '2nd_wave_data_cro.csv']\n",
    "FILE_PATHS = [os.path.join(DATA_DIR, FILE_NAMES[0]),\n",
    "              os.path.join(DATA_DIR, FILE_NAMES[1])]\n",
    "df_1 = pd.read_csv(FILE_PATHS[0])\n",
    "first_wave_period = len(df_1)\n",
    "df_2 = pd.read_csv(FILE_PATHS[1])\n",
    "df = pd.concat([df_1, df_2[1:-1]], sort=False)\n",
    "\n",
    "cum_positives = np.cumsum(df.confirmed_positives.values)\n",
    "cum_recovered = df.estimate_recovered.values\n",
    "cum_deceased = np.cumsum(df.confirmed_deceased.values)\n",
    "active = cum_positives - cum_recovered - cum_deceased"
   ]
  },
  {
   "cell_type": "markdown",
   "metadata": {},
   "source": [
    "## 1 *Brute-force* method\n",
    "\n",
    "The ultimate idea is to obtain the expected ratio of the number of newly confirmed infections, $I_{new}(t+n)$, $n$-days shifted from the currently observed confirmed number of infections, $I_{current}(t)$ in the initial epidemic period in which the presumption of a population as completely susceptible to infection, without prior immunity of any kind, is met:\n",
    "\n",
    "$$\n",
    "R_0 = \\frac{I_{new}(t+n)}{I_{current}(t)}\n",
    "$$\n",
    "\n",
    "$n$ stands for the number of days an infectious individual is roaming freely inside susceptible compartment and potentially spreads the pathogen.\n",
    "The outlined procedure of estimating $R_0$ directly arises from the definition itself: $R_0$ is the expected number of secondary infections caused by a single infectious individual in a population where all individuals are susceptible to infection.\n",
    "\n",
    "The following code shows the simple and effective way of estimating $R_0$ using CoroPy. Following parameters are to be defined:\n",
    "* `eff_period` - the total number of days from the beginning of the epidemics to be accounted for the estimation of $R_0$;\n",
    "* `avg_period` - the moving average window size;\n",
    "* `n` - the expected number of days an infectious individual is in contact with susceptible individuals."
   ]
  },
  {
   "cell_type": "code",
   "execution_count": null,
   "metadata": {},
   "outputs": [],
   "source": [
    "eff_period = 30  # the initial period of the first epi wave\n",
    "avg_period = 15\n",
    "n = 3\n",
    "\n",
    "R_eff = R._estimate(cum_positives[:eff_period], avg_period, n)\n",
    "R0_exp = np.mean(R_eff)\n",
    "R0_ci = np.std(R_eff)\n",
    "print(f'\\nR0 = <{round(R0_exp, 4)}> +/- {round(R0_ci, 4)}')"
   ]
  },
  {
   "cell_type": "markdown",
   "metadata": {},
   "source": [
    "The following figure shows the effective reproduction number during the complete duration of the first epidemic wave for Croatia. Effective reproduction number, or $R_{t}$ for short, is, similarly to $R_0$, the average number of new infections caused by a single infected individual but in this case at any given time $t$ in the **partially** susceptible population. For the case of COVID-19, immunity is a controversial topic and at the time of writing this text, the only way immunity can be achieved is by successfully recovering from the disease."
   ]
  },
  {
   "cell_type": "code",
   "execution_count": null,
   "metadata": {},
   "outputs": [],
   "source": [
    "R.simulate(dt.datetime(2020, 2, 25), cum_positives[:first_wave_period], 15, 3)"
   ]
  },
  {
   "cell_type": "markdown",
   "metadata": {},
   "source": [
    "## 2 SEIR(D)\n",
    "\n",
    "The susceptible-exposed-infected-removed (SEIR) and susceptible-exposed-infected-recovered-deceased (SEIRD) compartmental epidemiological models are used for the simulation of the disease transmission under the following assumptions:\n",
    "1. The observed population is closed - the total number of individuals in the population is fixed, vital dynamics are not taken into an account;\n",
    "2. The population is well mixed and homogenous;\n",
    "3. An exposed individual is infectious during the whole incubation period, the latent and infectious times of the pathogen are considered exponentially distributed.\n",
    "\n",
    "The SEIR compartmental model is mathematically formulated using the following set of coupled ordinary difference equations:\n",
    "\n",
    "$$\n",
    "\\begin{aligned}\n",
    "\\frac{S(t + \\Delta t)}{\\Delta t} &= -\\frac{\\beta \\cdot S(t) \\cdot I(t)}{N} - \\delta \\cdot S(t) \\cdot E(t) \\\\\n",
    "\\frac{E(t + \\Delta t)}{\\Delta t} &= \\frac{\\beta \\cdot S(t) \\cdot I(t)}{N} - \\alpha \\cdot E(t) + \\delta \\cdot S(t) \\cdot E(t) \\\\\n",
    "\\frac{I(t + \\Delta t)}{\\Delta t} &= \\alpha \\cdot E(t) - \\gamma \\cdot I(t) \\\\\n",
    "\\frac{R(t + \\Delta t)}{\\Delta t} &= \\gamma \\cdot I(t) \\\\\n",
    "\\end{aligned}\n",
    "$$\n",
    "\n",
    "where $N = S(t) + E(t) + I(t) + R(t)$.\n",
    "\n",
    "$\\beta$ stands for the contact (transmission) rate, the probability of the disease transmission between a susceptible and an infectious individual; $\\delta$ could be considered as the rate of asymptomatic pathogen carriers; $\\alpha$ represents the incubation rate of exposed individuals becoming infected; $\\gamma$ is the recovery rate, which can be directly determined by the average duration of recovery, $\\tau_d$, as follows:\n",
    "$$\n",
    "\\gamma = \\tau_d ^{-1}\n",
    "$$\n",
    "\n",
    "The SEIR compartmental model introduces additional segmentation of the removed compartment into two compartments - recovered and deceased compartment and thus makes more realistic approximation of the epidemiological situation. SEIRD is mathematically formulated using the following set of coupled ordinary difference equations:\n",
    "\n",
    "$$\n",
    "\\begin{aligned}\n",
    "\\frac{S(t + \\Delta t)}{\\Delta t} &= -\\frac{\\beta \\cdot S(t) \\cdot I(t)}{N} - \\delta \\cdot S(t) \\cdot E(t) \\\\\n",
    "\\frac{E(t + \\Delta t)}{\\Delta t} &= \\frac{\\beta \\cdot S(t) \\cdot I(t)}{N} - \\alpha \\cdot E(t) + \\delta \\cdot S(t) \\cdot E(t) \\\\\n",
    "\\frac{I(t + \\Delta t)}{\\Delta t} &= \\alpha \\cdot E(t) - \\gamma \\cdot I(t) - \\mu \\cdot I(t) \\\\\n",
    "\\frac{R(t + \\Delta t)}{\\Delta t} &= \\gamma \\cdot I(t) \\\\\n",
    "\\frac{D(t + \\Delta t)}{\\Delta t} &= \\mu \\cdot I(t) \\\\\n",
    "\\end{aligned}\n",
    "$$\n",
    "\n",
    "where $N = S(t) + E(t) + I(t) + R(t) + D(t)$\n",
    "\n",
    "Additional parameter in relation to SEIR model is $\\mu$ which represent the death rate.\n",
    "\n",
    "The following code shows how to determine $R_0$ using the CoroPy implementation of SEIR and SEIRD models for the first epidemiological wave. Following parameters need to be defined:\n",
    "* `cum_positives` - cumulative number of confirmed positive infections;\n",
    "* `cum_recovered` - cumulative number of recoveries;\n",
    "* `cum_deceased` - cumulative number of deaths;\n",
    "* `IC` - initial conditions for the set of ordinery difference equations describing the SEIR dynamics;\n",
    "* `guess` - initial guess for the parameters to be fitted."
   ]
  },
  {
   "cell_type": "code",
   "execution_count": null,
   "metadata": {},
   "outputs": [],
   "source": [
    "# initial conditions\n",
    "S0 = cum_positives[first_wave_period-1] + cum_deceased[first_wave_period-1]\n",
    "E0 = 10\n",
    "I0 = 1\n",
    "R0 = 0\n",
    "D0 = 0\n",
    "IC_seir = [S0, E0, I0, R0]\n",
    "IC_seird = [S0, E0, I0, R0, D0]"
   ]
  },
  {
   "cell_type": "markdown",
   "metadata": {},
   "source": [
    "### SEIR model without $\\delta$\n",
    "\n",
    "$R_0$ estimation method assuming the isolation of infected individuals:\n",
    "\n",
    "$$\n",
    "R_0 = \\frac{\\beta}{\\alpha}\n",
    "$$"
   ]
  },
  {
   "cell_type": "code",
   "execution_count": null,
   "metadata": {},
   "outputs": [],
   "source": [
    "def SEIR_no_delta(t, y, beta, alpha, gamma):\n",
    "    S, E, I, R = y\n",
    "    N = S + E + I + R\n",
    "    return [\n",
    "        -beta*S*I/N, \n",
    "        beta*S*I/N - alpha*E, \n",
    "        alpha*E - gamma*I, \n",
    "        gamma*I,\n",
    "    ]\n",
    "\n",
    "seir_model_no_delta = SEIRModel(ode_system=SEIR_no_delta)\n",
    "params, loss = seir_model_no_delta.fit(\n",
    "    cum_positives[:first_wave_period],\n",
    "    cum_recovered[:first_wave_period],\n",
    "    cum_deceased[:first_wave_period],\n",
    "    IC_seir,\n",
    "    guess=[0.1, 0.1, 0.1])\n",
    "\n",
    "R0 = params[0]/(params[1])\n",
    "print(f'\\n [SEIR] <R0> = {round(R0, 4)}')"
   ]
  },
  {
   "cell_type": "markdown",
   "metadata": {},
   "source": [
    "### Extended SEIR model with $\\delta$\n",
    "\n",
    "$R_0$ estimation method assuming the isolation of infected individuals:\n",
    "\n",
    "$$\n",
    "R_0 = \\frac{\\beta}{\\delta + \\alpha}\n",
    "$$"
   ]
  },
  {
   "cell_type": "code",
   "execution_count": null,
   "metadata": {},
   "outputs": [],
   "source": [
    "seir_model_extended = SEIRModel()\n",
    "params, loss = seir_model_extended.fit(\n",
    "    cum_positives[:first_wave_period],\n",
    "    cum_recovered[:first_wave_period],\n",
    "    cum_deceased[:first_wave_period],\n",
    "    IC_seir,\n",
    "    guess=[0.1, 0.1, 0.1, 0.1])\n",
    "\n",
    "R0 = params[0]/(params[1] + params[2])\n",
    "print(f'\\n[SEIR extended] <R0> = {round(R0, 4)}')"
   ]
  },
  {
   "cell_type": "markdown",
   "metadata": {},
   "source": [
    "### SEIRD model without $\\delta$\n",
    "\n",
    "$R_0$ estimation method assuming the isolation of infected individuals:\n",
    "\n",
    "$$\n",
    "R_0 = \\frac{\\beta}{\\alpha}\n",
    "$$"
   ]
  },
  {
   "cell_type": "code",
   "execution_count": null,
   "metadata": {},
   "outputs": [],
   "source": [
    "# SEIRD model without delta parameter\n",
    "def SEIRD_no_delta(t, y, beta, alpha, gamma, mu):\n",
    "    S, E, I, R, D = y\n",
    "    N = S + E + I + R + D\n",
    "    return [\n",
    "        -beta*S*I/N,\n",
    "        beta*S*I/N - alpha*E,\n",
    "        alpha*E - gamma*I - mu*I,\n",
    "        gamma*I,\n",
    "        mu*I,\n",
    "    ]\n",
    "\n",
    "seird_model_no_delta = SEIRDModel(ode_system=SEIRD_no_delta)\n",
    "params, loss = seird_model_no_delta.fit(\n",
    "    cum_positives[:first_wave_period],\n",
    "    cum_recovered[:first_wave_period],\n",
    "    cum_deceased[:first_wave_period],\n",
    "    IC_seird,\n",
    "    guess=[0.1, 0.1, 0.1, 0.1])\n",
    "\n",
    "R0 = params[0]/(params[1])\n",
    "print(f'\\n[SEIRD] <R0> = {round(R0, 4)}')"
   ]
  },
  {
   "cell_type": "markdown",
   "metadata": {},
   "source": [
    "### Extended SEIRD model with $\\delta$\n",
    "\n",
    "$R_0$ estimation method assuming the isolation of infected individuals:\n",
    "\n",
    "$$\n",
    "R_0 = \\frac{\\beta}{\\delta + \\alpha}\n",
    "$$"
   ]
  },
  {
   "cell_type": "code",
   "execution_count": null,
   "metadata": {},
   "outputs": [],
   "source": [
    "seird_model_extended = SEIRDModel()\n",
    "params, loss = seird_model_no_delta.fit(\n",
    "    cum_positives[:first_wave_period],\n",
    "    cum_recovered[:first_wave_period],\n",
    "    cum_deceased[:first_wave_period],\n",
    "    IC_seird,\n",
    "    guess=[0.1, 0.1, 0.1, 0.1])\n",
    "\n",
    "R0 = params[0]/(params[1] + params[2])\n",
    "print(f'\\n[SEIR] <R0> = {round(R0, 4)}')"
   ]
  },
  {
   "cell_type": "markdown",
   "metadata": {},
   "source": [
    "## 3 Empircal data-driven simplified estimate based on the number of confirmed positive infections in the initial exponential phase"
   ]
  },
  {
   "cell_type": "markdown",
   "metadata": {},
   "source": [
    "If a single infectious individual makes $k$ contacts per day inside the susceptible population and the probability of disease transmission for each contact is defined as $p_i$, then $R_0$ can be mathematically formulated as \n",
    "\n",
    "$$\n",
    "R_0 = k \\cdot p_i \\cdot \\tau_i\n",
    "$$\n",
    "\n",
    "where $\\tau_i$ is the expected infectious period. The product between $k$ and $p_i$ represents the transmission rate, $\\beta$.\n",
    "\n",
    "The outlined equation suggests two different ways of reducing $R_0$ and consequently the force of infection:\n",
    "1. by **practicing social distancing** and **obeying epidemiological protective guidelines**, it is possible to decrease the number of secondary infections per unit time, $\\beta$;\n",
    "2. by **contact tracing** and **isolating potentially infectious indiviudals** as soon as possible, it is possible to decrease the infectious period, $\\tau_i$.\n",
    "\n",
    "For the sake of simplicity, the dynamic of infected/infectious individuals is considered only in the inital exponential phase. Underlying assumptions are the same as for previously outlined SEIR(D) models:\n",
    "\n",
    "$$\n",
    "I(t + \\Delta t) = \\beta \\cdot \\frac{I(t) \\cdot S(t)}{N} \\cdot \\Delta t - \\frac{1}{\\tau_i} \\cdot I(t) \\cdot \\Delta t\n",
    "$$\n",
    "\n",
    "Lets assume, for the sake of mathematical elegance, that the susceptible compartment is the same as the total population, $N$, at the beginning of the epidemics and the initial number of infected people is 1:\n",
    "\n",
    "$$\n",
    "I(t + \\Delta t) \\approx \\Big(\\beta - \\frac{1}{\\tau_i} \\Big) \\cdot I(t) \\cdot \\Delta t\n",
    "$$\n",
    "\n",
    "this yields to analytical solution:\n",
    "\n",
    "$$\n",
    "I(t) \\approx \\exp \\Big( \\big(\\beta - \\tau_i^{-1} \\big) \\cdot t \\Big)\n",
    "$$\n",
    "\n",
    "The following code fits the number of active confirmed cases with the previous theretical consideration.\n",
    "Parameters to be adjusted are:\n",
    "* `tau_i` - the infectious period in days\n",
    "* `k` - the average number of contacts per days"
   ]
  },
  {
   "cell_type": "code",
   "execution_count": null,
   "metadata": {},
   "outputs": [],
   "source": [
    "tau_i = 5.9\n",
    "k = 5"
   ]
  },
  {
   "cell_type": "code",
   "execution_count": null,
   "metadata": {},
   "outputs": [],
   "source": [
    "def func(t, b):\n",
    "    return np.exp((k*b - 1/tau_i)*t)\n",
    "\n",
    "t = np.arange(30)\n",
    "popt, pcov = curve_fit(func, t, active[:30], maxfev=10000)\n",
    "p_i_exp = popt[0]\n",
    "p_i_err = np.sqrt(np.diag(pcov))[0]\n",
    "\n",
    "beta_95ci = np.array([\n",
    "    (p_i_exp - p_i_err) * k,\n",
    "    p_i_exp * k,\n",
    "    (p_i_exp + p_i_err) * k,\n",
    "])\n",
    "\n",
    "R0 = beta_95ci * tau_i\n",
    "print(f'\\n<R0> = {round(R0[1], 4)}, 95% CI ({round(R0[0], 4)}, {round(R0[2], 4)})')"
   ]
  },
  {
   "cell_type": "markdown",
   "metadata": {},
   "source": [
    "## Results overview"
   ]
  },
  {
   "cell_type": "markdown",
   "metadata": {},
   "source": [
    "|       **method**       | exected $R_0$ |                   95% CI                  |\n",
    "|:----------------------:|:-------------:|:-----------------------------------------:|\n",
    "|       brute force      |    $2.0862$   |            ($1.7715$, $2.4009$)           |\n",
    "|  SEIR without $\\delta$ |    $2.2440$   |                unavailable*               |\n",
    "|      extended SEIR     |    $2.1111$   |                unavailable*               |\n",
    "| SEIRD without $\\delta$ |    $2.2011$   |                unavailable*               |\n",
    "|     extended SEIRD     |    $2.2011$   |                unavailable*               |\n",
    "|  empirical and data-driven |    $2.2779$   |            ($2.2735$, $2.2824$)           |\n",
    "|                        |               | * due to the L-BFGS-B optimization method |"
   ]
  }
 ],
 "metadata": {
  "kernelspec": {
   "display_name": "Python 3 (ipykernel)",
   "language": "python",
   "name": "python3"
  },
  "language_info": {
   "codemirror_mode": {
    "name": "ipython",
    "version": 3
   },
   "file_extension": ".py",
   "mimetype": "text/x-python",
   "name": "python",
   "nbconvert_exporter": "python",
   "pygments_lexer": "ipython3",
   "version": "3.9.12"
  }
 },
 "nbformat": 4,
 "nbformat_minor": 4
}
