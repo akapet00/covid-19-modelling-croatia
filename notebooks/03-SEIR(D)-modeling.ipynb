{
 "cells": [
  {
   "cell_type": "markdown",
   "metadata": {},
   "source": [
    "# SEIRD"
   ]
  },
  {
   "cell_type": "code",
   "execution_count": 1,
   "metadata": {},
   "outputs": [],
   "source": [
    "import os\n",
    "import datetime\n",
    "\n",
    "import pandas as pd\n",
    "import numpy as np\n",
    "np.random.seed(42)\n",
    "import matplotlib.pyplot as plt\n",
    "import seaborn as sns\n",
    "sns.set(context='paper', style='darkgrid', font_scale=1.2)"
   ]
  },
  {
   "cell_type": "code",
   "execution_count": 2,
   "metadata": {},
   "outputs": [
    {
     "data": {
      "text/html": [
       "<div>\n",
       "<style scoped>\n",
       "    .dataframe tbody tr th:only-of-type {\n",
       "        vertical-align: middle;\n",
       "    }\n",
       "\n",
       "    .dataframe tbody tr th {\n",
       "        vertical-align: top;\n",
       "    }\n",
       "\n",
       "    .dataframe thead th {\n",
       "        text-align: right;\n",
       "    }\n",
       "</style>\n",
       "<table border=\"1\" class=\"dataframe\">\n",
       "  <thead>\n",
       "    <tr style=\"text-align: right;\">\n",
       "      <th></th>\n",
       "      <th>testing_date</th>\n",
       "      <th>total_tests</th>\n",
       "      <th>confirmed_positives</th>\n",
       "      <th>confirmed_deceased</th>\n",
       "      <th>estimate_recovered</th>\n",
       "    </tr>\n",
       "  </thead>\n",
       "  <tbody>\n",
       "    <tr>\n",
       "      <th>0</th>\n",
       "      <td>2020-02-25</td>\n",
       "      <td>32</td>\n",
       "      <td>1.0</td>\n",
       "      <td>0.0</td>\n",
       "      <td>0.0</td>\n",
       "    </tr>\n",
       "    <tr>\n",
       "      <th>1</th>\n",
       "      <td>2020-02-26</td>\n",
       "      <td>41</td>\n",
       "      <td>1.0</td>\n",
       "      <td>0.0</td>\n",
       "      <td>0.0</td>\n",
       "    </tr>\n",
       "    <tr>\n",
       "      <th>2</th>\n",
       "      <td>2020-02-27</td>\n",
       "      <td>28</td>\n",
       "      <td>2.0</td>\n",
       "      <td>0.0</td>\n",
       "      <td>0.0</td>\n",
       "    </tr>\n",
       "    <tr>\n",
       "      <th>3</th>\n",
       "      <td>2020-02-28</td>\n",
       "      <td>13</td>\n",
       "      <td>2.0</td>\n",
       "      <td>0.0</td>\n",
       "      <td>0.0</td>\n",
       "    </tr>\n",
       "    <tr>\n",
       "      <th>4</th>\n",
       "      <td>2020-02-29</td>\n",
       "      <td>10</td>\n",
       "      <td>0.0</td>\n",
       "      <td>0.0</td>\n",
       "      <td>0.0</td>\n",
       "    </tr>\n",
       "    <tr>\n",
       "      <th>...</th>\n",
       "      <td>...</td>\n",
       "      <td>...</td>\n",
       "      <td>...</td>\n",
       "      <td>...</td>\n",
       "      <td>...</td>\n",
       "    </tr>\n",
       "    <tr>\n",
       "      <th>93</th>\n",
       "      <td>2020-05-28</td>\n",
       "      <td>456</td>\n",
       "      <td>1.0</td>\n",
       "      <td>0.0</td>\n",
       "      <td>2051.0</td>\n",
       "    </tr>\n",
       "    <tr>\n",
       "      <th>94</th>\n",
       "      <td>2020-05-29</td>\n",
       "      <td>561</td>\n",
       "      <td>0.0</td>\n",
       "      <td>0.0</td>\n",
       "      <td>2059.0</td>\n",
       "    </tr>\n",
       "    <tr>\n",
       "      <th>95</th>\n",
       "      <td>2020-05-30</td>\n",
       "      <td>258</td>\n",
       "      <td>0.0</td>\n",
       "      <td>0.0</td>\n",
       "      <td>2063.0</td>\n",
       "    </tr>\n",
       "    <tr>\n",
       "      <th>96</th>\n",
       "      <td>2020-05-31</td>\n",
       "      <td>245</td>\n",
       "      <td>0.0</td>\n",
       "      <td>0.0</td>\n",
       "      <td>2072.0</td>\n",
       "    </tr>\n",
       "    <tr>\n",
       "      <th>97</th>\n",
       "      <td>2020-06-01</td>\n",
       "      <td>471</td>\n",
       "      <td>0.0</td>\n",
       "      <td>0.0</td>\n",
       "      <td>2077.0</td>\n",
       "    </tr>\n",
       "  </tbody>\n",
       "</table>\n",
       "<p>98 rows × 5 columns</p>\n",
       "</div>"
      ],
      "text/plain": [
       "   testing_date  total_tests  confirmed_positives  confirmed_deceased  \\\n",
       "0    2020-02-25           32                  1.0                 0.0   \n",
       "1    2020-02-26           41                  1.0                 0.0   \n",
       "2    2020-02-27           28                  2.0                 0.0   \n",
       "3    2020-02-28           13                  2.0                 0.0   \n",
       "4    2020-02-29           10                  0.0                 0.0   \n",
       "..          ...          ...                  ...                 ...   \n",
       "93   2020-05-28          456                  1.0                 0.0   \n",
       "94   2020-05-29          561                  0.0                 0.0   \n",
       "95   2020-05-30          258                  0.0                 0.0   \n",
       "96   2020-05-31          245                  0.0                 0.0   \n",
       "97   2020-06-01          471                  0.0                 0.0   \n",
       "\n",
       "    estimate_recovered  \n",
       "0                  0.0  \n",
       "1                  0.0  \n",
       "2                  0.0  \n",
       "3                  0.0  \n",
       "4                  0.0  \n",
       "..                 ...  \n",
       "93              2051.0  \n",
       "94              2059.0  \n",
       "95              2063.0  \n",
       "96              2072.0  \n",
       "97              2077.0  \n",
       "\n",
       "[98 rows x 5 columns]"
      ]
     },
     "execution_count": 2,
     "metadata": {},
     "output_type": "execute_result"
    }
   ],
   "source": [
    "DATA_DIR = 'data'\n",
    "FILE_NAME = 'initial_timeseries_SEIRD.csv' \n",
    "FILE_PATH = os.path.join(os.pardir, DATA_DIR, FILE_NAME)\n",
    "\n",
    "df = pd.read_csv(FILE_PATH)\n",
    "df"
   ]
  },
  {
   "cell_type": "code",
   "execution_count": 3,
   "metadata": {},
   "outputs": [],
   "source": [
    "cum_positives = np.cumsum(df.confirmed_positives.values)\n",
    "cum_deceased = np.cumsum(df.confirmed_deceased.values)"
   ]
  },
  {
   "cell_type": "code",
   "execution_count": 4,
   "metadata": {},
   "outputs": [],
   "source": [
    "# initial conditions\n",
    "S0 = np.max(cum_positives)\n",
    "E0 = 10\n",
    "I0 = 1\n",
    "R0 = 0\n",
    "D0 = 0\n",
    "ic = [S0, E0, I0, R0, D0]"
   ]
  },
  {
   "cell_type": "code",
   "execution_count": 5,
   "metadata": {},
   "outputs": [],
   "source": [
    "# training data\n",
    "I_train = cum_positives - df.estimate_recovered.values\n",
    "R_train = df.estimate_recovered.values\n",
    "D_train = df.confirmed_deceased.values"
   ]
  },
  {
   "cell_type": "code",
   "execution_count": 6,
   "metadata": {},
   "outputs": [],
   "source": [
    "from coropy.compartmental_models import SEIRDModel\n",
    "\n",
    "model = SEIRDModel(loss_fn='mae')\n",
    "params, loss = model.fit(I_train, R_train, D_train, ic)"
   ]
  },
  {
   "cell_type": "code",
   "execution_count": 7,
   "metadata": {},
   "outputs": [],
   "source": [
    "(S_sim, E_sim, I_sim, R_sim, D_sim) = model.simulate()"
   ]
  },
  {
   "cell_type": "code",
   "execution_count": 8,
   "metadata": {},
   "outputs": [
    {
     "data": {
      "image/png": "[encoded data removed]",
      "text/plain": [
       "<Figure size 648x360 with 1 Axes>"
      ]
     },
     "metadata": {},
     "output_type": "display_data"
    }
   ],
   "source": [
    "fig = plt.figure(figsize=(9, 5))\n",
    "ax = fig.subplots(nrows=1, ncols=1)\n",
    "ax.plot(I_train, '.', c='b', label='$I_{train}$')\n",
    "ax.plot(I_sim, '-', c='b', label='$I_{fit}$')\n",
    "ax.plot(R_train, '.', c='r', label='$R_{train}$')\n",
    "ax.plot(R_sim, '-', c='r', label='$R_{fit}$')\n",
    "ax.plot(D_train, '.', c='g', label='$D_{train}$')\n",
    "ax.plot(D_sim, '-', c='g', label='$D_{fit}$')\n",
    "ax.text(0.18, 0.96,\n",
    "        f'β = {params[0]:.6f}\\nγ = {params[1]:.6f}\\nδ = {params[2]:.6f}\\nμ = {params[3]:.6f}', \n",
    "        transform=ax.transAxes,\n",
    "        verticalalignment='top', \n",
    "        bbox=dict(boxstyle='round', facecolor='wheat', alpha=1))\n",
    "ax.set_xlabel('$\\Delta t$')\n",
    "ax.set_ylabel('$N$')\n",
    "ax.legend()\n",
    "plt.show();"
   ]
  },
  {
   "cell_type": "code",
   "execution_count": 9,
   "metadata": {},
   "outputs": [
    {
     "data": {
      "text/plain": [
       "2.0676512775023954"
      ]
     },
     "execution_count": 9,
     "metadata": {},
     "output_type": "execute_result"
    }
   ],
   "source": [
    "# beta = 0.403471 <= average number of contacts per person per time \n",
    "# gamma = 0.195135 <= infectious rate = 1/(infectious time period)\n",
    "# R0 = beta / gamma <= basic reproduction number\n",
    "R0 = params[0] / params[1]\n",
    "R0"
   ]
  }
 ],
 "metadata": {
  "kernelspec": {
   "display_name": "Python 3",
   "language": "python",
   "name": "python3"
  },
  "language_info": {
   "codemirror_mode": {
    "name": "ipython",
    "version": 3
   },
   "file_extension": ".py",
   "mimetype": "text/x-python",
   "name": "python",
   "nbconvert_exporter": "python",
   "pygments_lexer": "ipython3",
   "version": "3.7.6"
  }
 },
 "nbformat": 4,
 "nbformat_minor": 4
}
