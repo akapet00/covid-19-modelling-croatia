{
 "cells": [
  {
   "cell_type": "code",
   "execution_count": 11,
   "metadata": {},
   "outputs": [],
   "source": [
    "# LIB IMPORTS\n",
    "import os\n",
    "import datetime as dt\n",
    "\n",
    "from coropy.growth_models import GrowthCOVIDModel\n",
    "import matplotlib.pyplot as plt\n",
    "import numpy as np\n",
    "import pandas as pd\n",
    "\n",
    "import plotting\n",
    "\n",
    "\n",
    "# DATA LOAD\n",
    "DATA_DIR = 'data'\n",
    "FILE_NAMES = ['initial_timeseries_SEIRD.csv',\n",
    "              '2nd_wave_timeseries_SEIRD.csv']\n",
    "FILE_PATHS = [os.path.join(os.pardir, DATA_DIR, FILE_NAMES[0]),\n",
    "              os.path.join(os.pardir, DATA_DIR, FILE_NAMES[1])]\n",
    "df_1 = pd.read_csv(FILE_PATHS[0])\n",
    "df_2 = pd.read_csv(FILE_PATHS[1])\n",
    "df = pd.concat([df_1, df_2[1:-1]], sort=False)\n",
    "\n",
    "cum_positives = np.cumsum(df.confirmed_positives.values)\n",
    "cum_recovered = df.estimate_recovered.values\n",
    "cum_deceased = np.cumsum(df.confirmed_deceased.values)\n",
    "active = cum_positives - cum_recovered - cum_deceased\n",
    "\n",
    "eff_dates=[dt.datetime(2020, 2, 25), dt.datetime(2020, 6, 1), dt.datetime(2020, 8, 8)]"
   ]
  },
  {
   "cell_type": "code",
   "execution_count": 13,
   "metadata": {},
   "outputs": [],
   "source": [
    "# fit the entire first wave data to a Heidler function\n",
    "def heidler(t, t1, t2, n, a, b):\n",
    "    exp_1 = 1 - np.exp(-t/t1)\n",
    "    exp_2 = np.exp(-t/t2)\n",
    "    # if np.sign is not used NumPy will generate RuntimeWarning: invalid value encountered in power\n",
    "    # https://stackoverflow.com/questions/45384602/numpy-runtimewarning-invalid-value-encountered-in-power#45384691\n",
    "    return a/b * np.sign(exp_1) * (np.abs(exp_1))**n * exp_2  "
   ]
  },
  {
   "cell_type": "code",
   "execution_count": 27,
   "metadata": {},
   "outputs": [
    {
     "name": "stderr",
     "output_type": "stream",
     "text": [
      "/home/alk/anaconda3/lib/python3.7/site-packages/ipykernel_launcher.py:7: RuntimeWarning: divide by zero encountered in power\n",
      "  import sys\n",
      "/home/alk/anaconda3/lib/python3.7/site-packages/ipykernel_launcher.py:7: RuntimeWarning: invalid value encountered in multiply\n",
      "  import sys\n"
     ]
    }
   ],
   "source": [
    "X = []\n",
    "Y = []\n",
    "\n",
    "# past wave(s)\n",
    "start_idx = 0\n",
    "for start_date, end_date in zip(eff_dates[:-1], eff_dates[1:]):\n",
    "    end_idx = start_idx+abs((end_date - start_date).days)\n",
    "    \n",
    "    model = GrowthCOVIDModel(heidler, normalize=True, calc_ci=False)\n",
    "    model.fit(active[start_idx:end_idx])\n",
    "    x, fitted = model.get_fitted\n",
    "    X.append(x)\n",
    "    Y.append(fitted)\n",
    "    \n",
    "    start_idx = end_idx  # update indexing\n",
    "\n",
    "# current wave   \n",
    "model = GrowthCOVIDModel(heidler, normalize=True, calc_ci=False)\n",
    "model.fit(active[start_idx:])\n",
    "x, fitted = model.get_fitted\n",
    "X.append(x)\n",
    "Y.append(fitted)"
   ]
  },
  {
   "cell_type": "code",
   "execution_count": 39,
   "metadata": {},
   "outputs": [
    {
     "data": {
      "text/plain": [
       "[<matplotlib.lines.Line2D at 0x7f3e2586d7d0>]"
      ]
     },
     "execution_count": 39,
     "metadata": {},
     "output_type": "execute_result"
    },
    {
     "data": {
      "image/png": "[encoded data removed]",
      "text/plain": [
       "<Figure size 432x288 with 1 Axes>"
      ]
     },
     "metadata": {
      "needs_background": "light"
     },
     "output_type": "display_data"
    }
   ],
   "source": [
    "plt.plot(X[0], Y[0], 'b')\n",
    "plt.plot(X[1] + X[0][-1], Y[1], 'b')\n",
    "plt.plot(X[2] + X[0][-1] + X[1][-1], Y[2], 'b')\n",
    "plt.plot(active, 'r.', markevery=3)"
   ]
  },
  {
   "cell_type": "code",
   "execution_count": null,
   "metadata": {},
   "outputs": [],
   "source": []
  }
 ],
 "metadata": {
  "kernelspec": {
   "display_name": "Python 3",
   "language": "python",
   "name": "python3"
  },
  "language_info": {
   "codemirror_mode": {
    "name": "ipython",
    "version": 3
   },
   "file_extension": ".py",
   "mimetype": "text/x-python",
   "name": "python",
   "nbconvert_exporter": "python",
   "pygments_lexer": "ipython3",
   "version": "3.7.6"
  }
 },
 "nbformat": 4,
 "nbformat_minor": 4
}
