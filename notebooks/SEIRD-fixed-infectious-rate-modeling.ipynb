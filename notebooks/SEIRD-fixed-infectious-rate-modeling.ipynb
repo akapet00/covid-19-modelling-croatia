{
 "cells": [
  {
   "cell_type": "markdown",
   "metadata": {},
   "source": [
    "# SEIRD fixed infectious rate"
   ]
  },
  {
   "cell_type": "code",
   "execution_count": null,
   "metadata": {},
   "outputs": [],
   "source": [
    "import os\n",
    "import datetime\n",
    "\n",
    "import pandas as pd\n",
    "import numpy as np\n",
    "np.random.seed(42)\n",
    "import matplotlib.pyplot as plt\n",
    "import seaborn as sns\n",
    "sns.set(context='paper', style='darkgrid', font_scale=1.2)"
   ]
  },
  {
   "cell_type": "code",
   "execution_count": null,
   "metadata": {},
   "outputs": [],
   "source": [
    "# all data\n",
    "DATA_DIR = 'data'\n",
    "FILE_NAME = 'initial_timeseries_SEIRD.csv' \n",
    "FILE_PATH = os.path.join(os.pardir, DATA_DIR, FILE_NAME)\n",
    "df = pd.read_csv(FILE_PATH)\n",
    "\n",
    "# derived data\n",
    "cum_positives = np.cumsum(df.confirmed_positives.values)\n",
    "cum_deceased = np.cumsum(df.confirmed_deceased.values)\n",
    "\n",
    "# training_data\n",
    "I_train = cum_positives - df.estimate_recovered.values\n",
    "R_train = df.estimate_recovered.values\n",
    "D_train = cum_deceased\n",
    "\n",
    "# initial conditions\n",
    "S0 = np.max(cum_positives) # missing something here ?\n",
    "E0 = 10\n",
    "I0 = 1\n",
    "R0 = 0\n",
    "D0 = 0\n",
    "ic = [S0, E0, I0, R0, D0]"
   ]
  },
  {
   "cell_type": "code",
   "execution_count": null,
   "metadata": {},
   "outputs": [],
   "source": [
    "# additional input params\n",
    "beta = 0.5\n",
    "pcr_sens = 0.9\n",
    "pcr_spec = 0.95"
   ]
  },
  {
   "cell_type": "code",
   "execution_count": null,
   "metadata": {},
   "outputs": [],
   "source": [
    "# TBA - fixed beta SEIRD model, use the coropy API look and feel"
   ]
  },
  {
   "cell_type": "code",
   "execution_count": null,
   "metadata": {},
   "outputs": [],
   "source": [
    "model = SEIRDModel(loss_fn='mse')\n",
    "params, loss = model.fit(I_train, R_train, D_train, ic)\n",
    "(S_sim, E_sim, I_sim, R_sim, D_sim) = model.simulate()\n",
    "fig = plt.figure(figsize=(9, 5))\n",
    "ax = fig.subplots(nrows=1, ncols=1)\n",
    "ax.plot(I_train, '.', c='b', label='$I_{train}$')\n",
    "ax.plot(I_sim, '-', c='b', label='$I_{fit}$')\n",
    "ax.plot(R_train, '.', c='r', label='$R_{train}$')\n",
    "ax.plot(R_sim, '-', c='r', label='$R_{fit}$')\n",
    "ax.plot(D_train, '.', c='g', label='$D_{train}$')\n",
    "ax.plot(D_sim, '-', c='g', label='$D_{fit}$')\n",
    "ax.text(0.18, 0.96,\n",
    "        f'β = {params[0]:.6f}\\nγ = {params[1]:.6f}\\nδ = {params[2]:.6f}\\nμ = {params[3]:.6f}', \n",
    "        transform=ax.transAxes,\n",
    "        verticalalignment='top', \n",
    "        bbox=dict(boxstyle='round', facecolor='wheat', alpha=1))\n",
    "ax.set_xlabel('$\\Delta t$')\n",
    "ax.set_ylabel('$N$')\n",
    "ax.legend()\n",
    "plt.show();"
   ]
  },
  {
   "cell_type": "code",
   "execution_count": null,
   "metadata": {},
   "outputs": [],
   "source": [
    "# beta <= average number of contacts per person per time \n",
    "# gamma <= infectious rate = 1/(infectious time period)\n",
    "# R0 <= basic reproduction number\n",
    "R0 = params[0] / params[1]\n",
    "R0"
   ]
  }
 ],
 "metadata": {
  "kernelspec": {
   "display_name": "Python 3",
   "language": "python",
   "name": "python3"
  },
  "language_info": {
   "codemirror_mode": {
    "name": "ipython",
    "version": 3
   },
   "file_extension": ".py",
   "mimetype": "text/x-python",
   "name": "python",
   "nbconvert_exporter": "python",
   "pygments_lexer": "ipython3",
   "version": "3.7.6"
  }
 },
 "nbformat": 4,
 "nbformat_minor": 4
}
