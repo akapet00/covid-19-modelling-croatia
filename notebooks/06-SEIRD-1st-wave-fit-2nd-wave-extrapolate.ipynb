{
 "cells": [
  {
   "cell_type": "code",
   "execution_count": 19,
   "metadata": {},
   "outputs": [],
   "source": [
    "import os\n",
    "import datetime as dt\n",
    "\n",
    "import pandas as pd\n",
    "import numpy as np\n",
    "np.random.seed(42)\n",
    "import matplotlib.pyplot as plt\n",
    "from matplotlib import dates as mdates\n",
    "from scipy.integrate import solve_ivp\n",
    "\n",
    "from coropy.compartmental_models import SEIRDModel\n",
    "import plotting"
   ]
  },
  {
   "cell_type": "code",
   "execution_count": 20,
   "metadata": {},
   "outputs": [],
   "source": [
    "plotting.configure()\n",
    "b = plotting.default_colors('blue')\n",
    "o = plotting.default_colors('orange')\n",
    "g = plotting.default_colors('green')\n",
    "r = plotting.default_colors('red')"
   ]
  },
  {
   "cell_type": "code",
   "execution_count": 51,
   "metadata": {},
   "outputs": [],
   "source": [
    "# all data\n",
    "DATA_DIR = 'data'\n",
    "FILE_NAMES = ['initial_timeseries_SEIRD.csv',\n",
    "              '2nd_wave_timeseries_SEIRD.csv']\n",
    "FILE_PATHS = [os.path.join(os.pardir, DATA_DIR, FILE_NAMES[0]),\n",
    "              os.path.join(os.pardir, DATA_DIR, FILE_NAMES[1])]\n",
    "df_1 = pd.read_csv(FILE_PATHS[0])\n",
    "df_2 = pd.read_csv(FILE_PATHS[1])\n",
    "df = pd.concat([df_1, df_2[1:-1]], sort=False)\n",
    "\n",
    "# derived data\n",
    "cum_positives = np.cumsum(df.confirmed_positives.values)\n",
    "cum_recovered = df.estimate_recovered.values\n",
    "cum_deceased = np.cumsum(df.confirmed_deceased.values)\n",
    "active = cum_positives - cum_recovered - cum_deceased\n",
    "\n",
    "eff_dates=[dt.datetime(2020, 2, 25), dt.datetime(2020, 6, 15), dt.datetime(2020, 8, 8)]"
   ]
  },
  {
   "cell_type": "code",
   "execution_count": 52,
   "metadata": {},
   "outputs": [],
   "source": [
    "# system of odes\n",
    "def SEIRD_ode(t, y, beta, alpha, gamma, mu):\n",
    "    S, E, I, R, D = y\n",
    "    N = S + E + I + R + D\n",
    "    return [\n",
    "        -beta*S*I/N, #- delta*S*E, \n",
    "        beta*S*I/N - alpha*E, #+ delta*S*E, \n",
    "        alpha*E - gamma*I - mu*I, \n",
    "        gamma*I,\n",
    "        mu*I,\n",
    "    ]"
   ]
  },
  {
   "cell_type": "code",
   "execution_count": 53,
   "metadata": {},
   "outputs": [
    {
     "name": "stdout",
     "output_type": "stream",
     "text": [
      "INFO:root:L-BFGS-B optimization started: 2020-10-13 16:35:23.657193\n",
      "INFO:root:Elapsed time: 5.4718s\n",
      "INFO:root:L-BFGS-B optimization started: 2020-10-13 16:35:29.140137\n",
      "INFO:root:Elapsed time: 1.2441s\n",
      "INFO:root:L-BFGS-B optimization started: 2020-10-13 16:35:30.390543\n",
      "INFO:root:Elapsed time: 0.5219s\n"
     ]
    }
   ],
   "source": [
    "eff_population_scaler = 1\n",
    "first_wave_eff_population = 2200\n",
    "\n",
    "S0 = first_wave_eff_population * eff_population_scaler\n",
    "E0 = 5 * cum_positives[0]\n",
    "I0 = cum_positives[0]\n",
    "R0 = cum_recovered[0]\n",
    "D0 = cum_deceased[0]\n",
    "IC = (S0, E0, I0, R0, D0)\n",
    "\n",
    "IC_tot = []\n",
    "IC_tot.append(IC)\n",
    "active_tot = []\n",
    "opt_params = []\n",
    "S_tot, E_tot, I_tot, R_tot, D_tot = [], [], [], [], []\n",
    "\n",
    "# past wave(s)\n",
    "start_idx = 0\n",
    "for start_date, end_date in zip(eff_dates[:-1], eff_dates[1:]):\n",
    "    end_idx = start_idx + (end_date - start_date).days\n",
    "    \n",
    "    active_tot.append(active[start_idx:end_idx])\n",
    "    \n",
    "    model = SEIRDModel(ode_system=SEIRD_ode)\n",
    "    _, _ = model.fit(cum_positives[start_idx:end_idx], cum_recovered[start_idx:end_idx], cum_deceased[start_idx:end_idx], IC, guess=[0.1, 0.1, 0.1,0.1])\n",
    "    \n",
    "    opt_params.append(model.get_params)\n",
    "    \n",
    "    (S, E, I, R, D) = model.simulate()\n",
    "    S_tot.extend(S.tolist())\n",
    "    E_tot.extend(E.tolist())\n",
    "    I_tot.extend(I.tolist())\n",
    "    R_tot.extend(R.tolist())\n",
    "    D_tot.extend(D.tolist())\n",
    "    \n",
    "    eff_population_scaler += 2\n",
    "    \n",
    "    S0 = S0 * eff_population_scaler\n",
    "    IC = (S0, 3 * I[-1], I[-1], R[-1], D[-1])  # update initial conditions\n",
    "    IC_tot.append(IC)\n",
    "    start_idx = end_idx  # update indexing\n",
    "\n",
    "# current wave   \n",
    "active_tot.append(active[start_idx:])\n",
    "\n",
    "model = SEIRDModel(ode_system=SEIRD_ode)\n",
    "_, _ = model.fit(cum_positives[start_idx:], cum_recovered[start_idx:], cum_deceased[start_idx:], IC, guess=[0.1, 0.1, 0.1, 0.1,])\n",
    "opt_params.append(model.get_params)\n",
    "(S, E, I, R, D) = model.simulate()\n",
    "S_tot.extend(S.tolist())\n",
    "E_tot.extend(E.tolist())\n",
    "I_tot.extend(I.tolist())\n",
    "R_tot.extend(R.tolist())\n",
    "D_tot.extend(D.tolist())"
   ]
  },
  {
   "cell_type": "code",
   "execution_count": 54,
   "metadata": {},
   "outputs": [
    {
     "data": {
      "text/plain": [
       "[(2200, 5.0, 1.0, 0.0, 0.0),\n",
       " (6600,\n",
       "  364.78215819734044,\n",
       "  121.59405273244681,\n",
       "  2047.5176353841596,\n",
       "  36.60166503680791),\n",
       " (33000,\n",
       "  3385.663791300163,\n",
       "  1128.5545971000545,\n",
       "  4677.7109688264645,\n",
       "  147.3782400658227)]"
      ]
     },
     "execution_count": 54,
     "metadata": {},
     "output_type": "execute_result"
    }
   ],
   "source": [
    "IC_tot"
   ]
  },
  {
   "cell_type": "code",
   "execution_count": 55,
   "metadata": {},
   "outputs": [
    {
     "data": {
      "text/plain": [
       "[array([0.39770121, 0.21312533, 0.04059088, 0.00072561]),\n",
       " array([0.19617699, 0.18814692, 0.06604609, 0.00278168]),\n",
       " array([2.73512055e-01, 4.05712872e-02, 7.22723568e-02, 1.00000000e-05])]"
      ]
     },
     "execution_count": 55,
     "metadata": {},
     "output_type": "execute_result"
    }
   ],
   "source": [
    "opt_params"
   ]
  },
  {
   "cell_type": "code",
   "execution_count": 91,
   "metadata": {},
   "outputs": [],
   "source": [
    "# solve SEIR for 2nd wave using first wave params\n",
    "sol = solve_ivp(\n",
    "    fun=SEIRD_ode,\n",
    "    t_span=(0, len(active_tot[2])),\n",
    "    y0=IC_tot[2],\n",
    "    method='RK45',\n",
    "    t_eval=np.arange(0, len(active_tot[2])),\n",
    "    vectorized=True,\n",
    "    args=opt_params[0]\n",
    ")"
   ]
  },
  {
   "cell_type": "code",
   "execution_count": 92,
   "metadata": {},
   "outputs": [
    {
     "data": {
      "text/plain": [
       "[<matplotlib.lines.Line2D at 0x7fa24cc39a90>]"
      ]
     },
     "execution_count": 92,
     "metadata": {},
     "output_type": "execute_result"
    },
    {
     "data": {
      "image/png": "[encoded data removed]",
      "text/plain": [
       "<Figure size 687.456x424.8 with 1 Axes>"
      ]
     },
     "metadata": {},
     "output_type": "display_data"
    }
   ],
   "source": [
    "plt.plot(sol.y[2])\n",
    "plt.plot(active_tot[2])"
   ]
  },
  {
   "cell_type": "code",
   "execution_count": 74,
   "metadata": {},
   "outputs": [
    {
     "data": {
      "text/plain": [
       "32"
      ]
     },
     "execution_count": 74,
     "metadata": {},
     "output_type": "execute_result"
    }
   ],
   "source": [
    "len(active_tot[2])"
   ]
  },
  {
   "cell_type": "code",
   "execution_count": null,
   "metadata": {},
   "outputs": [],
   "source": []
  },
  {
   "cell_type": "code",
   "execution_count": null,
   "metadata": {},
   "outputs": [],
   "source": []
  },
  {
   "cell_type": "code",
   "execution_count": null,
   "metadata": {},
   "outputs": [],
   "source": []
  },
  {
   "cell_type": "code",
   "execution_count": null,
   "metadata": {},
   "outputs": [],
   "source": []
  },
  {
   "cell_type": "code",
   "execution_count": null,
   "metadata": {},
   "outputs": [],
   "source": []
  },
  {
   "cell_type": "code",
   "execution_count": null,
   "metadata": {},
   "outputs": [],
   "source": []
  },
  {
   "cell_type": "code",
   "execution_count": null,
   "metadata": {},
   "outputs": [],
   "source": []
  },
  {
   "cell_type": "code",
   "execution_count": null,
   "metadata": {},
   "outputs": [],
   "source": []
  },
  {
   "cell_type": "code",
   "execution_count": null,
   "metadata": {},
   "outputs": [],
   "source": []
  },
  {
   "cell_type": "code",
   "execution_count": null,
   "metadata": {},
   "outputs": [],
   "source": []
  },
  {
   "cell_type": "code",
   "execution_count": null,
   "metadata": {},
   "outputs": [],
   "source": []
  },
  {
   "cell_type": "code",
   "execution_count": null,
   "metadata": {},
   "outputs": [],
   "source": []
  },
  {
   "cell_type": "code",
   "execution_count": null,
   "metadata": {},
   "outputs": [],
   "source": []
  }
 ],
 "metadata": {
  "kernelspec": {
   "display_name": "Python 3",
   "language": "python",
   "name": "python3"
  },
  "language_info": {
   "codemirror_mode": {
    "name": "ipython",
    "version": 3
   },
   "file_extension": ".py",
   "mimetype": "text/x-python",
   "name": "python",
   "nbconvert_exporter": "python",
   "pygments_lexer": "ipython3",
   "version": "3.7.6"
  }
 },
 "nbformat": 4,
 "nbformat_minor": 4
}
