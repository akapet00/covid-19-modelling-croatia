{
 "cells": [
  {
   "cell_type": "code",
   "execution_count": 1,
   "metadata": {},
   "outputs": [],
   "source": [
    "import os\n",
    "import datetime as dt\n",
    "\n",
    "import pandas as pd\n",
    "import numpy as np\n",
    "np.random.seed(42)\n",
    "import matplotlib.pyplot as plt\n",
    "from matplotlib import dates as mdates\n",
    "from scipy.integrate import solve_ivp\n",
    "\n",
    "from coropy.compartmental_models import SEIRDModel\n",
    "import plotting"
   ]
  },
  {
   "cell_type": "code",
   "execution_count": 2,
   "metadata": {},
   "outputs": [],
   "source": [
    "plotting.configure()\n",
    "b = plotting.default_colors('blue')\n",
    "o = plotting.default_colors('orange')\n",
    "g = plotting.default_colors('green')\n",
    "r = plotting.default_colors('red')"
   ]
  },
  {
   "cell_type": "code",
   "execution_count": 34,
   "metadata": {},
   "outputs": [],
   "source": [
    "# all data\n",
    "DATA_DIR = 'data'\n",
    "FILE_NAMES = ['initial_timeseries_SEIRD.csv',\n",
    "              '2nd_wave_timeseries_SEIRD.csv']\n",
    "FILE_PATHS = [os.path.join(os.pardir, DATA_DIR, FILE_NAMES[0]),\n",
    "              os.path.join(os.pardir, DATA_DIR, FILE_NAMES[1])]\n",
    "df_1 = pd.read_csv(FILE_PATHS[0])\n",
    "df_2 = pd.read_csv(FILE_PATHS[1])\n",
    "df = pd.concat([df_1, df_2[1:-1]], sort=False)\n",
    "\n",
    "# derived data\n",
    "cum_positives = np.cumsum(df.confirmed_positives.values)\n",
    "cum_recovered = df.estimate_recovered.values\n",
    "cum_deceased = np.cumsum(df.confirmed_deceased.values)\n",
    "active = cum_positives - cum_recovered - cum_deceased\n",
    "\n",
    "eff_dates=[dt.datetime(2020, 2, 25), dt.datetime(2020, 6, 15), dt.datetime(2020, 8, 8)]"
   ]
  },
  {
   "cell_type": "code",
   "execution_count": 35,
   "metadata": {},
   "outputs": [],
   "source": [
    "# system of odes\n",
    "def SEIRD_ode(t, y, beta, alpha, gamma, mu):\n",
    "    S, E, I, R, D = y\n",
    "    N = S + E + I + R + D\n",
    "    return [\n",
    "        -beta*S*I/N, #- delta*S*E, \n",
    "        beta*S*I/N - alpha*E, #+ delta*S*E, \n",
    "        alpha*E - gamma*I - mu*I, \n",
    "        gamma*I,\n",
    "        mu*I,\n",
    "    ]"
   ]
  },
  {
   "cell_type": "code",
   "execution_count": 36,
   "metadata": {},
   "outputs": [
    {
     "name": "stdout",
     "output_type": "stream",
     "text": [
      "INFO:root:L-BFGS-B optimization started: 2020-10-13 14:21:50.319387\n",
      "INFO:root:Elapsed time: 5.7906s\n",
      "INFO:root:L-BFGS-B optimization started: 2020-10-13 14:21:56.122255\n",
      "INFO:root:Elapsed time: 1.4281s\n",
      "INFO:root:L-BFGS-B optimization started: 2020-10-13 14:21:57.556388\n",
      "INFO:root:Elapsed time: 0.5829s\n"
     ]
    }
   ],
   "source": [
    "eff_population_scaler = 1\n",
    "first_wave_eff_population = 2200\n",
    "\n",
    "S0 = first_wave_eff_population * eff_population_scaler\n",
    "E0 = 5 * cum_positives[0]\n",
    "I0 = cum_positives[0]\n",
    "R0 = cum_recovered[0]\n",
    "D0 = cum_deceased[0]\n",
    "IC = (S0, E0, I0, R0, D0)\n",
    "\n",
    "S_tot, E_tot, I_tot, R_tot, D_tot = [], [], [], [], []\n",
    "opt_params = np.zeros((len(eff_dates), 4))\n",
    "\n",
    "# past wave(s)\n",
    "start_idx = 0\n",
    "for param_idx, (start_date, end_date) in enumerate(zip(eff_dates[:-1], eff_dates[1:])):\n",
    "    end_idx = start_idx+abs((end_date - start_date).days)\n",
    "    model = SEIRDModel(ode_system=SEIRD_ode)\n",
    "    _, _ = model.fit(cum_positives[start_idx:end_idx], cum_recovered[start_idx:end_idx], cum_deceased[start_idx:end_idx], IC, guess=[0.1, 0.1, 0.1,0.1])\n",
    "    opt_params[param_idx, :] = model.get_params\n",
    "    (S, E, I, R, D) = model.simulate()\n",
    "    S_tot.extend(S.tolist())\n",
    "    E_tot.extend(E.tolist())\n",
    "    I_tot.extend(I.tolist())\n",
    "    R_tot.extend(R.tolist())\n",
    "    D_tot.extend(D.tolist())\n",
    "    \n",
    "    eff_population_scaler += 2\n",
    "    S0 = S0 * eff_population_scaler\n",
    "    IC = (S0, 3 * I[-1], I[-1], R[-1], D[-1])  # update initial conditions\n",
    "    start_idx = end_idx  # update indexing\n",
    "\n",
    "# current wave   \n",
    "model = SEIRDModel(ode_system=SEIRD_ode)\n",
    "_, _ = model.fit(cum_positives[start_idx:], cum_recovered[start_idx:], cum_deceased[start_idx:], IC, guess=[0.1, 0.1, 0.1, 0.1,])\n",
    "opt_params[-1, :] = model.get_params\n",
    "(S, E, I, R, D) = model.simulate()\n",
    "S_tot.extend(S.tolist())\n",
    "E_tot.extend(E.tolist())\n",
    "I_tot.extend(I.tolist())\n",
    "R_tot.extend(R.tolist())\n",
    "D_tot.extend(D.tolist())"
   ]
  },
  {
   "cell_type": "code",
   "execution_count": 37,
   "metadata": {},
   "outputs": [
    {
     "data": {
      "text/plain": [
       "array([[3.97701215e-01, 2.13125326e-01, 4.05908819e-02, 7.25607359e-04],\n",
       "       [1.96176986e-01, 1.88146922e-01, 6.60460865e-02, 2.78168117e-03],\n",
       "       [2.73512055e-01, 4.05712872e-02, 7.22723568e-02, 1.00000000e-05]])"
      ]
     },
     "execution_count": 37,
     "metadata": {},
     "output_type": "execute_result"
    }
   ],
   "source": [
    "opt_params"
   ]
  },
  {
   "cell_type": "code",
   "execution_count": 44,
   "metadata": {},
   "outputs": [
    {
     "data": {
      "image/png": "[encoded data removed]",
      "text/plain": [
       "<Figure size 687.456x424.8 with 1 Axes>"
      ]
     },
     "metadata": {},
     "output_type": "display_data"
    }
   ],
   "source": [
    "plt.plot(active, '.', c=b)\n",
    "plt.plot(I_tot, c=b, label='I')\n",
    "plt.plot(cum_recovered, '.', c=o)\n",
    "plt.plot(R_tot, c=o, label='R')\n",
    "plt.plot(cum_deceased, '.', c=g)\n",
    "plt.plot(D_tot, c=g, label='D')\n",
    "plt.legend()\n",
    "plt.show()"
   ]
  },
  {
   "cell_type": "code",
   "execution_count": null,
   "metadata": {},
   "outputs": [],
   "source": []
  }
 ],
 "metadata": {
  "kernelspec": {
   "display_name": "Python 3",
   "language": "python",
   "name": "python3"
  },
  "language_info": {
   "codemirror_mode": {
    "name": "ipython",
    "version": 3
   },
   "file_extension": ".py",
   "mimetype": "text/x-python",
   "name": "python",
   "nbconvert_exporter": "python",
   "pygments_lexer": "ipython3",
   "version": "3.7.6"
  }
 },
 "nbformat": 4,
 "nbformat_minor": 4
}
