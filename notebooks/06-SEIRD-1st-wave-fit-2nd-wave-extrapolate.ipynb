{
 "cells": [
  {
   "cell_type": "code",
   "execution_count": 1,
   "metadata": {},
   "outputs": [],
   "source": [
    "import os\n",
    "import datetime\n",
    "\n",
    "import pandas as pd\n",
    "import numpy as np\n",
    "np.random.seed(42)\n",
    "import matplotlib.pyplot as plt\n",
    "from matplotlib import dates as mdates\n",
    "from scipy.integrate import solve_ivp\n",
    "\n",
    "from coropy.compartmental_models import SEIRDModel\n",
    "import plotting"
   ]
  },
  {
   "cell_type": "code",
   "execution_count": 2,
   "metadata": {},
   "outputs": [],
   "source": [
    "plotting.configure()\n",
    "b = plotting.default_colors('blue')\n",
    "o = plotting.default_colors('orange')\n",
    "g = plotting.default_colors('green')\n",
    "r = plotting.default_colors('red')"
   ]
  },
  {
   "cell_type": "code",
   "execution_count": 3,
   "metadata": {},
   "outputs": [],
   "source": [
    "# all data\n",
    "DATA_DIR = 'data'\n",
    "FILE_NAMES = ['initial_timeseries_SEIRD.csv',\n",
    "              '2nd_wave_timeseries_SEIRD.csv']\n",
    "FILE_PATHS = [os.path.join(os.pardir, DATA_DIR, FILE_NAMES[0]),\n",
    "              os.path.join(os.pardir, DATA_DIR, FILE_NAMES[1])]\n",
    "df_1 = pd.read_csv(FILE_PATHS[0])\n",
    "df_2 = pd.read_csv(FILE_PATHS[1])\n",
    "\n",
    "# derived data\n",
    "cum_positives_1 = np.cumsum(df_1.confirmed_positives.values)\n",
    "cum_recovered_1 = df_1.estimate_recovered.values\n",
    "cum_deceased_1 = np.cumsum(df_1.confirmed_deceased.values)\n",
    "active_1 = cum_positives_1 - cum_recovered_1 - cum_deceased_1\n",
    "\n",
    "cum_positives_2 = np.cumsum(df_2.confirmed_positives.values) + cum_positives_1[-1]\n",
    "cum_recovered_2 = df_2.estimate_recovered.values\n",
    "cum_deceased_2 = np.cumsum(df_2.confirmed_deceased.values) + cum_deceased_1[-1]\n",
    "active_2 = cum_positives_2 - cum_recovered_2 - cum_deceased_2\n",
    "\n",
    "# initial conditions\n",
    "S0_1 = cum_positives_1[-1] + cum_deceased_1[-1]\n",
    "E0_1 = 10\n",
    "I0_1 = 1\n",
    "R0_1 = 0\n",
    "D0_1 = 0\n",
    "IC_1 = [S0_1, E0_1, I0_1, R0_1, D0_1]"
   ]
  },
  {
   "cell_type": "code",
   "execution_count": 5,
   "metadata": {},
   "outputs": [
    {
     "name": "stdout",
     "output_type": "stream",
     "text": [
      "INFO:root:L-BFGS-B optimization started: 2020-10-12 10:50:38.881483\n",
      "INFO:root:Elapsed time: 24.321s\n"
     ]
    }
   ],
   "source": [
    "# transmission rate\n",
    "beta = 0.5\n",
    "\n",
    "# system of odes\n",
    "def SEIRD_ode(t, y, delta, alpha, gamma, mu):\n",
    "    S, E, I, R, D = y\n",
    "    N = S + E + I + R + D\n",
    "    return [\n",
    "        -beta*S*I/N - delta*S*E, \n",
    "        beta*S*I/N - alpha*E + delta*S*E, \n",
    "        alpha*E - gamma*I - mu*I, \n",
    "        gamma*I,\n",
    "        mu*I,\n",
    "    ]\n",
    "\n",
    "model = SEIRDModel(ode_system=SEIRD_ode)\n",
    "params, loss = model.fit(cum_positives_1, cum_recovered_1, cum_deceased_1, IC_1, guess=[0.1, 0.1, 0.1, 0.1])\n",
    "S_1, E_1, I_1, R_1, D_1 = model.simulate()"
   ]
  },
  {
   "cell_type": "code",
   "execution_count": 19,
   "metadata": {},
   "outputs": [],
   "source": [
    "IC_2 = [S0_1*5, E_1[-1], I_1[-1], R_1[-1], D_1[-1]]"
   ]
  },
  {
   "cell_type": "code",
   "execution_count": 20,
   "metadata": {},
   "outputs": [],
   "source": [
    "sol = solve_ivp(\n",
    "    fun=SEIRD_ode,\n",
    "    t_span=(0, active_2.size),\n",
    "    y0=IC_2,\n",
    "    method='RK45',\n",
    "    t_eval=np.linspace(0, 1, active_2.size),\n",
    "    vectorized=True,\n",
    "    args=params,\n",
    ")"
   ]
  },
  {
   "cell_type": "code",
   "execution_count": 21,
   "metadata": {},
   "outputs": [
    {
     "data": {
      "text/plain": [
       "[<matplotlib.lines.Line2D at 0x7fb1ee202e50>]"
      ]
     },
     "execution_count": 21,
     "metadata": {},
     "output_type": "execute_result"
    },
    {
     "data": {
      "image/png": "[encoded data removed]",
      "text/plain": [
       "<Figure size 687.456x424.8 with 1 Axes>"
      ]
     },
     "metadata": {},
     "output_type": "display_data"
    }
   ],
   "source": [
    "plt.plot(sol.y[2])\n",
    "plt.plot(active_2)"
   ]
  }
 ],
 "metadata": {
  "kernelspec": {
   "display_name": "Python 3",
   "language": "python",
   "name": "python3"
  },
  "language_info": {
   "codemirror_mode": {
    "name": "ipython",
    "version": 3
   },
   "file_extension": ".py",
   "mimetype": "text/x-python",
   "name": "python",
   "nbconvert_exporter": "python",
   "pygments_lexer": "ipython3",
   "version": "3.7.6"
  }
 },
 "nbformat": 4,
 "nbformat_minor": 4
}
