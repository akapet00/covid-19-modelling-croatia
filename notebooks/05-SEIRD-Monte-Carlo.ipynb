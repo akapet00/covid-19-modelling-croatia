{
 "cells": [
  {
   "cell_type": "markdown",
   "metadata": {},
   "source": [
    "$$\n",
    "\\begin{aligned}\n",
    "\\frac{S(t)}{dt} &= -\\frac{\\beta \\cdot S(t) \\cdot I(t)}{N} - \\langle \\delta \\rangle \\cdot S(t) \\cdot E(t) \\\\\n",
    "\\frac{E(t)}{dt} &= \\frac{\\beta \\cdot S(t) \\cdot I(t)}{N} - \\langle \\alpha \\rangle \\cdot E(t) + \\langle \\delta \\rangle \\cdot S(t) \\cdot E(t) \\\\\n",
    "\\frac{I(t)}{dt} &= \\langle \\alpha \\rangle \\cdot E(t) - \\langle \\gamma \\rangle \\cdot I(t) - \\mu \\cdot I(t) \\\\\n",
    "\\frac{R(t)}{dt} &= \\langle \\gamma \\rangle \\cdot I(t) \\\\\n",
    "\\frac{D(t)}{dt} &= \\langle \\mu \\rangle \\cdot I(t) \\\\ \\\\\n",
    "\\beta &= 0.5 \\\\\n",
    "N &= S(t) + E(t) + I(t) + R(t) + D(t)\n",
    "\\end{aligned}\n",
    "$$\n"
   ]
  },
  {
   "cell_type": "code",
   "execution_count": null,
   "metadata": {},
   "outputs": [],
   "source": []
  }
 ],
 "metadata": {
  "kernelspec": {
   "display_name": "Python 3",
   "language": "python",
   "name": "python3"
  },
  "language_info": {
   "codemirror_mode": {
    "name": "ipython",
    "version": 3
   },
   "file_extension": ".py",
   "mimetype": "text/x-python",
   "name": "python",
   "nbconvert_exporter": "python",
   "pygments_lexer": "ipython3",
   "version": "3.7.6"
  }
 },
 "nbformat": 4,
 "nbformat_minor": 4
}
