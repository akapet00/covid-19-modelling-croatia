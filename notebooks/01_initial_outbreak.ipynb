{
 "cells": [
  {
   "cell_type": "markdown",
   "metadata": {},
   "source": [
    "# Initial Stage of the Novel Coronavirus Disease 2019 Epidemics Outbreak Analytical Modeling"
   ]
  },
  {
   "cell_type": "markdown",
   "metadata": {},
   "source": [
    "**Abstract** $-$ This report overviews different analytical techniques to tackle the problem of the initial stage Coronavirus Disease 2019 (COVID-19) modeling. Using the data on confirmed infections in the closed territory of the Republic of Croatia, both exponential and logistic fitting has been performed on the different stages of the epidemics. Deriving only the time series of active infections from the total daily number of newly confirmed infected individuals, the cumulative number of recovered (expected recovery rate, $\\gamma = 1/15$) and the cumulative number of deceased individuals due to infection, Heidler function fitting has been performed for the complete duration of the first epidemic *wave*. Results show that logistic and Heidler function achieve exceptional goodness-of-fit for the cumulative number of confirmed cases and the active number of confirmed cases, respectively, for the complete duration of the first epidemic *wave*. Exponential fit, however, successfully fits only a very short period of the initial outbreak from Feb, $25^{th}$ to Mar, $18^{th}$ when the curve growth for the cumulative number of confirmed cases takes on a linear characteristic."
   ]
  },
  {
   "cell_type": "code",
   "execution_count": null,
   "metadata": {},
   "outputs": [],
   "source": [
    "import os\n",
    "import datetime\n",
    "from io import StringIO\n",
    "import requests\n",
    "\n",
    "from coropy.growth_models import GrowthCOVIDModel\n",
    "from matplotlib import dates as mdates\n",
    "import matplotlib.pyplot as plt\n",
    "import numpy as np\n",
    "import pandas as pd\n",
    "\n",
    "import utils"
   ]
  },
  {
   "cell_type": "code",
   "execution_count": null,
   "metadata": {},
   "outputs": [],
   "source": [
    "np.random.seed(42)  # for reproducibility\n",
    "utils.configure(grid=False)  # paper-quality plots\n",
    "\n",
    "blue = utils.default_colors('blue')\n",
    "purple = utils.default_colors('purple')"
   ]
  },
  {
   "cell_type": "code",
   "execution_count": null,
   "metadata": {},
   "outputs": [],
   "source": [
    "# data load\n",
    "DATA_DIR = os.path.join(os.pardir, 'data')\n",
    "FILE_NAME = '1st_wave_data_cro.csv' \n",
    "FILE_PATH = os.path.join(DATA_DIR, FILE_NAME)\n",
    "df = pd.read_csv(FILE_PATH)\n",
    "\n",
    "# derived data\n",
    "cum_positives = np.cumsum(df.confirmed_positives.values)\n",
    "cum_recovered = df.estimate_recovered.values\n",
    "cum_deceased = np.cumsum(df.confirmed_deceased.values)\n",
    "active = cum_positives - cum_recovered - cum_deceased"
   ]
  },
  {
   "cell_type": "markdown",
   "metadata": {},
   "source": [
    "## Exponential function\n",
    "\n",
    "$$\n",
    "f(x) = a \\cdot e^{b x} + c\n",
    "$$"
   ]
  },
  {
   "cell_type": "code",
   "execution_count": null,
   "metadata": {},
   "outputs": [],
   "source": [
    "start_date = datetime.datetime(2020, 2, 25)\n",
    "end_critical = datetime.datetime(2020, 3, 18)\n",
    "dur_critical = (end_critical - start_date).days\n",
    "n_days_future = 10\n",
    "y_train, y_test = cum_positives[:dur_critical], cum_positives[dur_critical:dur_critical+n_days_future]\n",
    "\n",
    "# fit the critical initial period to model and evaulate the extrapolation performance\n",
    "model = GrowthCOVIDModel('exponential', normalize=True, calc_ci=True)\n",
    "model.fit(y_train)\n",
    "x_fit, y_fit = model.get_fitted\n",
    "x_pred, y_pred = model.predict(n_days_future)\n",
    "\n",
    "# prinout\n",
    "sre_fit = np.sqrt(np.mean((y_train - y_fit[1])**2))\n",
    "sre_predict = np.sqrt(np.mean((y_test - y_pred[1])**2))\n",
    "a, b, c = model.get_params\n",
    "print(\n",
    "    f'Exponential function normalized parameters \\n'\n",
    "    f'------------------------------------------ \\n'\n",
    "    f'x ∈ [0, 1] and y ∈ [0, 1] where y=f(x) \\n'\n",
    "    f'------------------------------------------ \\n'\n",
    "    f'a = {a}\\n'\n",
    "    f'b = {b}\\n'\n",
    "    f'c = {c}\\n'\n",
    "    f'\\n'\n",
    "    f'goodness-of-fit \\n'\n",
    "    f'--------------- \\n'\n",
    "    f'[fitted] S = {sre_fit}\\n'\n",
    "    f'[extrapolated] S = {sre_predict}\\n'\n",
    "    )"
   ]
  },
  {
   "cell_type": "code",
   "execution_count": null,
   "metadata": {},
   "outputs": [],
   "source": [
    "# visualize\n",
    "fig = plt.figure()\n",
    "ax = fig.subplots(nrows=1, ncols=1)\n",
    "ax.plot(x_fit, y_train, '.', color=blue, label='[train] confirmed positives')\n",
    "ax.plot(x_pred, y_test, '.', color=purple, label='[test] confirmed positives')\n",
    "ax.plot(x_fit, y_fit[1], '-', color=blue, label='[fitted] $a \\cdot \\exp(b \\cdot x) + c$')\n",
    "ax.fill_between(x_fit, y_fit[0], y_fit[2], color=blue, alpha=0.2)\n",
    "ax.plot(x_pred, y_pred[1], '-', color=purple, label='[extrapolated] $a \\cdot \\exp(b \\cdot x) + c$')\n",
    "ax.fill_between(x_pred, y_pred[0], y_pred[2], color=purple, alpha=0.2)\n",
    "ax.set_xlabel(r'$\\Delta t$ days from Feb, $25^{th}$')\n",
    "ax.set_ylabel(r'$N$')\n",
    "ax.legend(loc='upper left')\n",
    "plt.show()"
   ]
  },
  {
   "cell_type": "markdown",
   "metadata": {},
   "source": [
    "## 2 Logistic function\n",
    "\n",
    "$$\n",
    "f(x) = \\frac{a}{1 + e^{-c \\cdot (x - d) + b}}\n",
    "$$"
   ]
  },
  {
   "cell_type": "code",
   "execution_count": null,
   "metadata": {},
   "outputs": [],
   "source": [
    "# fit the entire first wave data to a logistic model\n",
    "model = GrowthCOVIDModel('logistic', normalize=True, calc_ci=True)\n",
    "model.fit(cum_positives)\n",
    "x, fitted = model.get_fitted\n",
    "\n",
    "# printout\n",
    "sre = np.sqrt(np.mean((cum_positives - fitted[1])**2))\n",
    "a, b, c, d = model.get_params\n",
    "print(\n",
    "    f'Logistic function normalized parameters \\n'\n",
    "    f'--------------------------------------- \\n'\n",
    "    f'x ∈ [0, 1] and y ∈ [0, 1] where y=f(x) \\n'\n",
    "    f'--------------------------------------- \\n'\n",
    "    f'a = {a}\\n'\n",
    "    f'b = {b}\\n'\n",
    "    f'c = {c}\\n'\n",
    "    f'd = {d}\\n'\n",
    "    f'\\n'\n",
    "    f'goodness-of-fit \\n'\n",
    "    f'--------------- \\n'\n",
    "    f'S = {sre}\\n'\n",
    "    )"
   ]
  },
  {
   "cell_type": "code",
   "execution_count": null,
   "metadata": {},
   "outputs": [],
   "source": [
    "# visualize\n",
    "fig = plt.figure()\n",
    "ax = fig.subplots(nrows=1, ncols=1)\n",
    "ax.plot(x, cum_positives, '.', color=blue, label='confirmed positive cases')\n",
    "ax.plot(x, fitted[1], '-', color=blue, label=r'$a / \\big( 1 + \\exp (-c \\cdot (x - d) + b ) \\big)$')\n",
    "ax.fill_between(x, fitted[0], fitted[2], color=blue, alpha=0.2)\n",
    "ax.set_xlabel(r'$\\Delta t$ days from Feb, $25^{th}$')\n",
    "ax.set_ylabel(r'$N$')\n",
    "ax.legend()\n",
    "plt.show()"
   ]
  },
  {
   "cell_type": "markdown",
   "metadata": {},
   "source": [
    "## 3 Heidler function\n",
    "\n",
    "$$\n",
    "f(x) = \\frac{a}{b} \\cdot \\Big( 1 - e^{-\\frac{t}{t_1}} \\Big) \\cdot \\Big( \\big(1 - e^{-\\frac{t}{t_1}} \\big)^n \\cdot e^{-\\frac{t}{t_2}} \\Big)\n",
    "$$"
   ]
  },
  {
   "cell_type": "code",
   "execution_count": null,
   "metadata": {},
   "outputs": [],
   "source": [
    "sensitivity = 0.85\n",
    "specificity = 0.95\n",
    "\n",
    "daily_positive = df.confirmed_positives.values\n",
    "true_daily_positive = sensitivity * daily_positive\n",
    "daily_tests = df.total_tests.values\n",
    "daily_negative = daily_tests - daily_positive\n",
    "true_daily_negative = specificity * daily_negative\n",
    "false_daily_negative = daily_negative - true_daily_negative\n",
    "accuracy = (true_daily_negative + true_daily_positive) / (daily_negative + daily_positive)\n",
    "lower_bound = active - (1 - accuracy) * active\n",
    "upper_bound = active + (1 - accuracy) * active"
   ]
  },
  {
   "cell_type": "code",
   "execution_count": null,
   "metadata": {},
   "outputs": [],
   "source": [
    "# calculate dispesion for each day in the number of daily positive infections\n",
    "# from the range [lower bound, upper bound]\n",
    "spread = np.array([np.random.uniform(lower_bound[i], upper_bound[i], 1000)\n",
    "                   for i in range(active.size)])\n",
    "y_init = spread.mean(axis=1)\n",
    "sigma = spread.std(axis=1)"
   ]
  },
  {
   "cell_type": "code",
   "execution_count": null,
   "metadata": {},
   "outputs": [],
   "source": [
    "def heidler(t, t1, t2, n, I0):\n",
    "    xn = np.sign(t / t1) * np.abs(t / t1) ** n\n",
    "    x = xn / (1 + xn)\n",
    "    y = np.exp(-t / t2)\n",
    "    return I0 * x * y\n",
    "\n",
    "model = GrowthCOVIDModel(heidler, normalize=True, calc_ci=True)#, spread=sigma, absolute_sigma=False)\n",
    "model.fit(y_init)\n",
    "x, fitted = model.get_fitted\n",
    "\n",
    "# prinout\n",
    "sre = np.sqrt(np.mean((active - fitted[1])**2))\n",
    "t1, t2, n, I0 = model.get_params\n",
    "print(\n",
    "    f'Heidler function normalized parameters \\n'\n",
    "    f'--------------------------------------- \\n'\n",
    "    f'x ∈ [0, 1] and y ∈ [0, 1] where y=f(x) \\n'\n",
    "    f'--------------------------------------- \\n'\n",
    "    f't1 = {t1}\\n'\n",
    "    f't2 = {t2}\\n'\n",
    "    f'n = {n}\\n'\n",
    "    f'I0 = {I0}\\n'\n",
    "    f'\\n'\n",
    "    f'goodness-of-fit \\n'\n",
    "    f'--------------- \\n'\n",
    "    f'S = {sre}\\n'\n",
    "    )"
   ]
  },
  {
   "cell_type": "code",
   "execution_count": null,
   "metadata": {},
   "outputs": [],
   "source": [
    "# dates\n",
    "t = np.arange(active.size)\n",
    "start_dt = datetime.datetime(2020, 2, 25)\n",
    "end_dt = start_dt + datetime.timedelta(int(t.max())+1)\n",
    "dates = mdates.drange(start_dt, end_dt, datetime.timedelta(days=1))\n",
    "\n",
    "# visualize\n",
    "fig = plt.figure()\n",
    "ax = fig.subplots(nrows=1, ncols=1)\n",
    "ax.plot(dates, active, 'o', markersize=4, color=purple, label='$I{[}t{]}$')\n",
    "ax.plot(dates, fitted[1], '-', color=blue, label=f'$\\\\hat I(t)$')\n",
    "ax.fill_between(dates, fitted[0], fitted[2], color=blue, alpha=0.2, label='$95$\\% CI')\n",
    "ax.set_ylabel(r'$N$')\n",
    "ax.legend(frameon=True)\n",
    "fig.tight_layout()\n",
    "_ = fig.gca().xaxis.set_major_formatter(mdates.DateFormatter('%Y/%m/%d'))\n",
    "_ = fig.gca().xaxis.set_major_locator(mdates.DayLocator(bymonthday=[10, 25]))\n",
    "_ = plt.gcf().autofmt_xdate()\n",
    "plt.yticks([0, 500, 1000, 1500])\n",
    "plt.ylim([-125, 1500])\n",
    "plt.show()\n",
    "fname = f'Heidler'\n",
    "fig.savefig(fname=os.path.join(os.pardir, 'figures', fname + '.jpeg'),\n",
    "            transparent=True, format='jpeg', bbox_inches='tight', dpi=2000)\n",
    "fig.savefig(fname=os.path.join(os.pardir, 'figures', fname + '.pdf'),\n",
    "            format='pdf', bbox_inches='tight')"
   ]
  },
  {
   "cell_type": "code",
   "execution_count": null,
   "metadata": {},
   "outputs": [],
   "source": []
  }
 ],
 "metadata": {
  "kernelspec": {
   "display_name": "Python 3 (ipykernel)",
   "language": "python",
   "name": "python3"
  },
  "language_info": {
   "codemirror_mode": {
    "name": "ipython",
    "version": 3
   },
   "file_extension": ".py",
   "mimetype": "text/x-python",
   "name": "python",
   "nbconvert_exporter": "python",
   "pygments_lexer": "ipython3",
   "version": "3.9.12"
  }
 },
 "nbformat": 4,
 "nbformat_minor": 4
}
