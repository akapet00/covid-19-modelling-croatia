{
 "cells": [
  {
   "cell_type": "code",
   "execution_count": 6,
   "metadata": {},
   "outputs": [],
   "source": [
    "import datetime as dt\n",
    "import os\n",
    "\n",
    "import matplotlib.pyplot as plt\n",
    "import numpy as np\n",
    "import pandas as pd\n",
    "from scipy.integrate import solve_ivp\n",
    "from scipy.optimize import minimize   "
   ]
  },
  {
   "cell_type": "code",
   "execution_count": 7,
   "metadata": {},
   "outputs": [],
   "source": [
    "# load data\n",
    "DATA_DIR = 'data'\n",
    "FILE_NAMES = ['1st_wave_data_cro.csv',\n",
    "              '2nd_wave_data_cro.csv']\n",
    "FILE_PATHS = [os.path.join(os.pardir, DATA_DIR, FILE_NAMES[0]),\n",
    "              os.path.join(os.pardir, DATA_DIR, FILE_NAMES[1])]\n",
    "df_1 = pd.read_csv(FILE_PATHS[0])\n",
    "df_2 = pd.read_csv(FILE_PATHS[1])\n",
    "df = pd.concat([df_1, df_2[1:-1]], sort=False)\n",
    "\n",
    "cum_positives = np.cumsum(df.confirmed_positives.values)\n",
    "cum_recovered = df.estimate_recovered.values\n",
    "cum_deceased = np.cumsum(df.confirmed_deceased.values)\n",
    "active = cum_positives - cum_recovered - cum_deceased\n",
    "\n",
    "# start of different epi waves\n",
    "eff_dates=[dt.datetime(2020, 2, 25), dt.datetime(2020, 6, 1), dt.datetime(2020, 8, 8)]"
   ]
  },
  {
   "cell_type": "code",
   "execution_count": 8,
   "metadata": {},
   "outputs": [],
   "source": [
    "def MSE(y_true, y_pred):\n",
    "    return np.mean((y_true - y_pred)**2)"
   ]
  },
  {
   "cell_type": "code",
   "execution_count": 9,
   "metadata": {},
   "outputs": [],
   "source": [
    "def SEIRD(t, y, beta, alpha, gamma, mu):\n",
    "    S, E, I, R, D = y\n",
    "    N = S + E + I + R + D\n",
    "    return [\n",
    "        -beta*S*I/N, \n",
    "        beta*S*I/N - alpha*E, \n",
    "        alpha*E - gamma*I - mu*I, \n",
    "        gamma*I,\n",
    "        mu*I,\n",
    "    ]"
   ]
  },
  {
   "cell_type": "code",
   "execution_count": 10,
   "metadata": {},
   "outputs": [],
   "source": [
    "def loss(params, active, cum_recovered, cum_deceased, IC):\n",
    "        size = active.size\n",
    "        sol = solve_ivp(\n",
    "            fun=SEIRD, \n",
    "            t_span=(0, size), \n",
    "            y0=IC, \n",
    "            args=params,\n",
    "            method='RK45', \n",
    "            t_eval=np.arange(0, size, 1), \n",
    "            vectorized=True,\n",
    "        )\n",
    "        return MSE(sol.y[2], active)"
   ]
  },
  {
   "cell_type": "code",
   "execution_count": 11,
   "metadata": {},
   "outputs": [],
   "source": [
    "guess = [0.1, 0.1, 0.1, 0.1]\n",
    "S0 = \n",
    "E0 = \n",
    "I0 = \n",
    "R0 = \n",
    "D0 =\n",
    "IC = [S0, E0, I0, R0, D0]"
   ]
  },
  {
   "cell_type": "code",
   "execution_count": 12,
   "metadata": {},
   "outputs": [
    {
     "ename": "NameError",
     "evalue": "name 'IC' is not defined",
     "output_type": "error",
     "traceback": [
      "\u001b[0;31m---------------------------------------------------------------------------\u001b[0m",
      "\u001b[0;31mNameError\u001b[0m                                 Traceback (most recent call last)",
      "\u001b[0;32m<ipython-input-12-49323aacc824>\u001b[0m in \u001b[0;36m<module>\u001b[0;34m\u001b[0m\n\u001b[1;32m      2\u001b[0m     \u001b[0mfun\u001b[0m\u001b[0;34m=\u001b[0m\u001b[0mloss\u001b[0m\u001b[0;34m,\u001b[0m\u001b[0;34m\u001b[0m\u001b[0;34m\u001b[0m\u001b[0m\n\u001b[1;32m      3\u001b[0m     \u001b[0mx0\u001b[0m\u001b[0;34m=\u001b[0m\u001b[0mguess\u001b[0m\u001b[0;34m,\u001b[0m\u001b[0;34m\u001b[0m\u001b[0;34m\u001b[0m\u001b[0m\n\u001b[0;32m----> 4\u001b[0;31m     \u001b[0margs\u001b[0m\u001b[0;34m=\u001b[0m\u001b[0;34m(\u001b[0m\u001b[0mactive\u001b[0m\u001b[0;34m,\u001b[0m \u001b[0mcum_recovered\u001b[0m\u001b[0;34m,\u001b[0m \u001b[0mcum_deceased\u001b[0m\u001b[0;34m,\u001b[0m \u001b[0mIC\u001b[0m\u001b[0;34m)\u001b[0m\u001b[0;34m,\u001b[0m\u001b[0;34m\u001b[0m\u001b[0;34m\u001b[0m\u001b[0m\n\u001b[0m\u001b[1;32m      5\u001b[0m     \u001b[0mmethod\u001b[0m\u001b[0;34m=\u001b[0m\u001b[0;34m'L-BFGS-B'\u001b[0m\u001b[0;34m,\u001b[0m\u001b[0;34m\u001b[0m\u001b[0;34m\u001b[0m\u001b[0m\n\u001b[1;32m      6\u001b[0m     \u001b[0mbounds\u001b[0m\u001b[0;34m=\u001b[0m\u001b[0;34m[\u001b[0m\u001b[0;34m(\u001b[0m\u001b[0;36m1e-5\u001b[0m\u001b[0;34m,\u001b[0m \u001b[0;36m1.0\u001b[0m\u001b[0;34m)\u001b[0m\u001b[0;34m]\u001b[0m \u001b[0;34m*\u001b[0m \u001b[0mlen\u001b[0m\u001b[0;34m(\u001b[0m\u001b[0mguess\u001b[0m\u001b[0;34m)\u001b[0m\u001b[0;34m,\u001b[0m\u001b[0;34m\u001b[0m\u001b[0;34m\u001b[0m\u001b[0m\n",
      "\u001b[0;31mNameError\u001b[0m: name 'IC' is not defined"
     ]
    }
   ],
   "source": [
    "opt = minimize(\n",
    "    fun=loss, \n",
    "    x0=guess,\n",
    "    args=(active, cum_recovered, cum_deceased, IC),\n",
    "    method='L-BFGS-B',\n",
    "    bounds=[(1e-5, 1.0)] * len(guess),\n",
    "    options={'maxiter': 1000, 'disp': True},\n",
    ")"
   ]
  },
  {
   "cell_type": "code",
   "execution_count": null,
   "metadata": {},
   "outputs": [],
   "source": []
  },
  {
   "cell_type": "code",
   "execution_count": null,
   "metadata": {},
   "outputs": [],
   "source": []
  },
  {
   "cell_type": "code",
   "execution_count": null,
   "metadata": {},
   "outputs": [],
   "source": []
  }
 ],
 "metadata": {
  "kernelspec": {
   "display_name": "Python 3",
   "language": "python",
   "name": "python3"
  },
  "language_info": {
   "codemirror_mode": {
    "name": "ipython",
    "version": 3
   },
   "file_extension": ".py",
   "mimetype": "text/x-python",
   "name": "python",
   "nbconvert_exporter": "python",
   "pygments_lexer": "ipython3",
   "version": "3.7.6"
  }
 },
 "nbformat": 4,
 "nbformat_minor": 4
}
