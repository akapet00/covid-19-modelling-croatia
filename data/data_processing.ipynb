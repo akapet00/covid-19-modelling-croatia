{
 "cells": [
  {
   "cell_type": "markdown",
   "metadata": {},
   "source": [
    "# Creating training datasets for SEIR(D) modeling"
   ]
  },
  {
   "cell_type": "code",
   "execution_count": null,
   "metadata": {},
   "outputs": [],
   "source": [
    "import os\n",
    "import datetime\n",
    "\n",
    "import pandas as pd\n",
    "import numpy as np"
   ]
  },
  {
   "cell_type": "code",
   "execution_count": null,
   "metadata": {},
   "outputs": [],
   "source": [
    "df_w = pd.read_csv('clean_data_cro.csv' )"
   ]
  },
  {
   "cell_type": "code",
   "execution_count": null,
   "metadata": {},
   "outputs": [],
   "source": [
    "df_w"
   ]
  },
  {
   "cell_type": "code",
   "execution_count": null,
   "metadata": {},
   "outputs": [],
   "source": [
    "# create additional column for age groups\n",
    "# age groups: Y <= 47.0; O > 47.0\n",
    "df_w.loc[df_w.age <= 47.0, 'age_group'] = 'Y'\n",
    "df_w.loc[df_w.age > 47.0, 'age_group'] = 'O'"
   ]
  },
  {
   "cell_type": "code",
   "execution_count": null,
   "metadata": {},
   "outputs": [],
   "source": [
    "df_w"
   ]
  },
  {
   "cell_type": "markdown",
   "metadata": {},
   "source": [
    "## Without age grouping"
   ]
  },
  {
   "cell_type": "code",
   "execution_count": null,
   "metadata": {},
   "outputs": [],
   "source": [
    "# assemble new dataframe for SEIR(D) modeling without age grouping\n",
    "columns_dtypes_dict = {\n",
    "    'testing_date': datetime.datetime,\n",
    "    'total_tests': float,\n",
    "    'confirmed_positives': float,\n",
    "    'confirmed_deceased': float,\n",
    "    'estimate_recovered': float,\n",
    "}\n",
    "\n",
    "# create empty dataframe with predifined data types\n",
    "columns_dtypes_list = [(k, v) for k, v in columns_dtypes_dict.items()]\n",
    "dtypes = np.dtype(columns_dtypes_list)\n",
    "empty_matrix = np.empty(0, dtype=dtypes)\n",
    "df_m = pd.DataFrame(empty_matrix)\n",
    "\n",
    "df_m.testing_date = df_w.testing_date.sort_values().unique()\n",
    "df_m.testing_date = pd.to_datetime(df_m.testing_date)\n",
    "df_m.total_tests = df_w.groupby('testing_date').count().testing_result.values\n",
    "df_m.confirmed_positives = df_w.groupby('testing_date').sum().testing_result.values\n",
    "df_m.confirmed_deceased = df_w.groupby('testing_date').sum().deceased.values"
   ]
  },
  {
   "cell_type": "code",
   "execution_count": null,
   "metadata": {},
   "outputs": [],
   "source": [
    "# dataframe for SEIR(D) modeling without age grouping for 1st epi wave\n",
    "eff_start_date = datetime.datetime(2020, 2, 25)\n",
    "eff_end_date_initial = datetime.datetime(2020, 6, 1)\n",
    "df_m_initial = df_m.loc[df_m.testing_date <= eff_end_date_initial]\n",
    "df_m_initial"
   ]
  },
  {
   "cell_type": "code",
   "execution_count": null,
   "metadata": {},
   "outputs": [],
   "source": [
    "# dataframe for SEIR(D) modeling without age grouping for 2nd epi wave\n",
    "eff_rec_date = datetime.datetime(2020, 6, 1)\n",
    "df_m_rec = df_m.loc[df_m.testing_date >= eff_rec_date]\n",
    "df_m_rec"
   ]
  },
  {
   "cell_type": "code",
   "execution_count": null,
   "metadata": {},
   "outputs": [],
   "source": [
    "# obtain recovered data\n",
    "import requests\n",
    "import io\n",
    "\n",
    "RECOVERED_URL = 'https://raw.githubusercontent.com/antelk/covid-19/master/data/CRO/recovered_cases.dat'\n",
    "response = requests.get(RECOVERED_URL)\n",
    "estimate_recovered_all = np.loadtxt(io.BytesIO(response.content))\n",
    "df_m_initial.estimate_recovered = estimate_recovered_all[:len(df_m_initial)]\n",
    "df_m_rec.estimate_recovered = estimate_recovered_all[len(df_m_initial):len(df_m_initial)+len(df_m_rec)]"
   ]
  },
  {
   "cell_type": "code",
   "execution_count": null,
   "metadata": {},
   "outputs": [],
   "source": [
    "df_m_initial"
   ]
  },
  {
   "cell_type": "code",
   "execution_count": null,
   "metadata": {},
   "outputs": [],
   "source": [
    "df_m_rec"
   ]
  },
  {
   "cell_type": "code",
   "execution_count": null,
   "metadata": {},
   "outputs": [],
   "source": [
    "df_m_initial.to_csv('1st_wave_data_cro.csv', index=False)"
   ]
  },
  {
   "cell_type": "code",
   "execution_count": null,
   "metadata": {},
   "outputs": [],
   "source": [
    "df_m_rec.to_csv('2nd_wave_data_cro.csv', index=False)"
   ]
  },
  {
   "cell_type": "markdown",
   "metadata": {},
   "source": [
    "## With age grouping"
   ]
  },
  {
   "cell_type": "code",
   "execution_count": null,
   "metadata": {},
   "outputs": [],
   "source": [
    "# assemble new dataframe for SEIR(D) modeling with age grouping\n",
    "iterables = [df_w.testing_date.sort_values().unique(), df_w.age_group.unique()]\n",
    "# columns and dtypes\n",
    "columns_dtypes_dict = {\n",
    "    'total_tests': float,\n",
    "    'confirmed_positives': float,\n",
    "    'confirmed_deceased': float,\n",
    "    'estimate_recovered': float,\n",
    "}\n",
    "df_m_g = pd.DataFrame(\n",
    "    index=pd.MultiIndex.from_product(iterables, names=['testing_date', 'age_group']), \n",
    "    columns=list(columns_dtypes_dict.keys()),\n",
    "    dtype=float,\n",
    ")"
   ]
  },
  {
   "cell_type": "code",
   "execution_count": null,
   "metadata": {},
   "outputs": [],
   "source": [
    "df_m_g.total_tests = df_w.groupby(['testing_date', 'age_group']).count().testing_result.values\n",
    "df_m_g.confirmed_positives = df_w.groupby(['testing_date', 'age_group']).sum().testing_result.values\n",
    "df_m_g.confirmed_deceased = df_w.groupby(['testing_date', 'age_group']).sum().deceased.values"
   ]
  },
  {
   "cell_type": "code",
   "execution_count": null,
   "metadata": {},
   "outputs": [],
   "source": [
    "df_m_g"
   ]
  },
  {
   "cell_type": "code",
   "execution_count": null,
   "metadata": {},
   "outputs": [],
   "source": [
    "df_m_g.reset_index(inplace=True,)\n",
    "df_m_g.testing_date = pd.to_datetime(df_m_g.testing_date)\n",
    "df_m_g"
   ]
  },
  {
   "cell_type": "code",
   "execution_count": null,
   "metadata": {},
   "outputs": [],
   "source": [
    "# dataframe for SEIR(D) modeling without age grouping for 1st epi wave\n",
    "eff_start_date = datetime.datetime(2020, 2, 25)\n",
    "eff_end_date_initial = datetime.datetime(2020, 6, 1)\n",
    "df_m_g_initial = df_m_g.loc[df_m_g.testing_date <= eff_end_date_initial]\n",
    "df_m_g_initial"
   ]
  },
  {
   "cell_type": "code",
   "execution_count": null,
   "metadata": {},
   "outputs": [],
   "source": [
    "# df_m_g_initial.to_csv('1st_wave_age_grouped_data_cro.csv', index=False)"
   ]
  }
 ],
 "metadata": {
  "kernelspec": {
   "display_name": "Python 3 (ipykernel)",
   "language": "python",
   "name": "python3"
  },
  "language_info": {
   "codemirror_mode": {
    "name": "ipython",
    "version": 3
   },
   "file_extension": ".py",
   "mimetype": "text/x-python",
   "name": "python",
   "nbconvert_exporter": "python",
   "pygments_lexer": "ipython3",
   "version": "3.9.12"
  }
 },
 "nbformat": 4,
 "nbformat_minor": 4
}
