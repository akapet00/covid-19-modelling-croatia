{
 "cells": [
  {
   "cell_type": "markdown",
   "metadata": {},
   "source": [
    "# Data cleaning"
   ]
  },
  {
   "cell_type": "code",
   "execution_count": null,
   "metadata": {},
   "outputs": [],
   "source": [
    "import os\n",
    "import datetime\n",
    "import string\n",
    "import random\n",
    "\n",
    "import pandas as pd\n",
    "import numpy as np\n",
    "np.random.seed(42)\n",
    "import matplotlib.pyplot as plt\n",
    "import seaborn as sns\n",
    "sns.set(context='paper', style='darkgrid', font_scale=1.2)"
   ]
  },
  {
   "cell_type": "markdown",
   "metadata": {},
   "source": [
    "## Loading"
   ]
  },
  {
   "cell_type": "code",
   "execution_count": null,
   "metadata": {},
   "outputs": [],
   "source": [
    "RAW_FILE = 'raw_data_cro.xlsx' "
   ]
  },
  {
   "cell_type": "code",
   "execution_count": null,
   "metadata": {},
   "outputs": [],
   "source": [
    "df = pd.read_excel(RAW_FILE)"
   ]
  },
  {
   "cell_type": "code",
   "execution_count": null,
   "metadata": {},
   "outputs": [],
   "source": [
    "df.shape"
   ]
  },
  {
   "cell_type": "code",
   "execution_count": null,
   "metadata": {},
   "outputs": [],
   "source": [
    "df.info()"
   ]
  },
  {
   "cell_type": "code",
   "execution_count": null,
   "metadata": {},
   "outputs": [],
   "source": [
    "# check for NaNs\n",
    "df.isnull().any()"
   ]
  },
  {
   "cell_type": "code",
   "execution_count": null,
   "metadata": {},
   "outputs": [],
   "source": [
    "# only test results seem to be an issue, lets see how many NaNs are there\n",
    "df['Rezultat'].isnull().sum()"
   ]
  },
  {
   "cell_type": "markdown",
   "metadata": {},
   "source": [
    "## Creating a working dataset"
   ]
  },
  {
   "cell_type": "code",
   "execution_count": null,
   "metadata": {},
   "outputs": [],
   "source": [
    "# list all comorbidities A-Z\n",
    "comorbidity_list = list(string.ascii_uppercase)\n",
    "\n",
    "# drop existing sumcomorbidity column, create new and drop comorbidites\n",
    "df_tidy = df.copy(deep=True)\n",
    "df_tidy.drop(columns='sumcomorbidity', inplace=True)\n",
    "df_tidy['sum_comorbidity'] = df_tidy[comorbidity_list].sum(axis=1)\n",
    "df_tidy.drop(columns=comorbidity_list, inplace=True)\n",
    "df_tidy"
   ]
  },
  {
   "cell_type": "code",
   "execution_count": null,
   "metadata": {},
   "outputs": [],
   "source": [
    "# replace '(null)' with np.Nan\n",
    "df_tidy = df_tidy.replace('(null)', np.NaN)\n",
    "df_tidy = df_tidy.replace('\"\"(null)\"\"', np.NaN)\n",
    "# check for NaNs\n",
    "df_tidy.isnull().sum()"
   ]
  },
  {
   "cell_type": "code",
   "execution_count": null,
   "metadata": {},
   "outputs": [],
   "source": [
    "# convert testing date to datetime.datetime format and drop all testst before 2020-2-25\n",
    "df_tidy.Datum_testiranja = df_tidy.Datum_testiranja.apply(pd.to_datetime)\n",
    "df_tidy.drop(df_tidy[df_tidy.Datum_testiranja < datetime.datetime(2020, 2, 25)].index, inplace=True)\n",
    "\n",
    "# convert testing result to bool\n",
    "df_tidy.Rezultat = df_tidy.Rezultat.replace({1.0: True, 0.0: False})\n",
    "df_tidy.drop(df_tidy[df_tidy.Rezultat.isnull()].index, inplace=True)\n",
    "\n",
    "# convert hospitalization data to bool\n",
    "df_tidy.Hospitalizacija = df_tidy.Hospitalizacija.replace({1: True, 0: False})\n",
    "\n",
    "# convert respirator indicator data to bool\n",
    "df_tidy.Respirator = df_tidy.Respirator.replace({1: True, 0: False})\n",
    "\n",
    "# convert deceased data to bool\n",
    "df_tidy.preminuli = df_tidy.Respirator.replace({1: True, 0: False})\n",
    "\n",
    "# convert age to numeric and remove invalid values\n",
    "df_tidy.dob = df_tidy.dob.apply(pd.to_numeric)\n",
    "df_tidy.loc[df_tidy.dob < 0, 'dob'] = np.NaN\n",
    "df_tidy.loc[df_tidy.dob > 105, 'dob'] = np.NaN\n",
    "\n",
    "# convert sex to string\n",
    "df_tidy.spol = df_tidy.spol.replace({1.: 'M', 2.: 'F'})\n",
    "\n",
    "# tidy up counties\n",
    "df_tidy.županija = df_tidy.županija.str.replace('ŽUPANIJA', '').str.replace(' ', '')"
   ]
  },
  {
   "cell_type": "code",
   "execution_count": null,
   "metadata": {},
   "outputs": [],
   "source": [
    "df_tidy.spol.value_counts().plot(kind='bar')\n",
    "plt.show()"
   ]
  },
  {
   "cell_type": "code",
   "execution_count": null,
   "metadata": {},
   "outputs": [],
   "source": [
    "ax = sns.distplot(df_tidy.dob, bins=10, kde_kws=dict(bw=5, cut=0))\n",
    "plt.show()"
   ]
  },
  {
   "cell_type": "code",
   "execution_count": null,
   "metadata": {},
   "outputs": [],
   "source": [
    "# lets quickly visually check if this could be described as Gaussian PDF\n",
    "# for the later random generation of missing values (NaNs)\n",
    "_ = sns.kdeplot(df_tidy.dob.values, cumulative=True, label='age cdf')\n",
    "mu = df_tidy.dob.mean()\n",
    "sigma = df_tidy.dob.std()\n",
    "gaussian_cdf = np.random.normal(mu, sigma, size=df_tidy.dob.values.size)\n",
    "_ = sns.kdeplot(gaussian_cdf, cumulative=True, label='normal cdf')\n",
    "plt.legend(loc='upper left')\n",
    "plt.show()"
   ]
  },
  {
   "cell_type": "code",
   "execution_count": null,
   "metadata": {},
   "outputs": [],
   "source": [
    "sns.distplot(df_tidy.sum_comorbidity, bins=10, kde_kws=dict(bw=0.6, cut=0))\n",
    "plt.show()"
   ]
  },
  {
   "cell_type": "code",
   "execution_count": null,
   "metadata": {},
   "outputs": [],
   "source": [
    "# handling missing (NaN) values for sex\n",
    "@np.vectorize\n",
    "def gen_random_sex(x):\n",
    "    return random.choice(('M', 'F')) # https://en.wikipedia.org/wiki/Fisher%27s_principle :)\n",
    "df_tidy.loc[df_tidy.spol.isnull(), 'spol'] = df_tidy.spol.loc[df_tidy.spol.isnull()].apply(gen_random_sex)\n",
    "\n",
    "# missing values will be filled with random values from existing age distribution because all \n",
    "# individuals with missing age are tested Negative so it is not of the greatest importance\n",
    "# it could be chechked with: df_w[df_w.age.isnull() & df_w.testing_result==False]\n",
    "@np.vectorize\n",
    "def gen_random_age(x):\n",
    "    random_nmb = -1\n",
    "    while random_nmb not in range(0, 105):\n",
    "        random_nmb = int(random.gauss(mu=df_tidy.dob.mean(), sigma=df_tidy.dob.std()))\n",
    "    return random_nmb\n",
    "df_tidy.loc[df_tidy.dob.isnull(), 'dob'] = df_tidy.dob.loc[df_tidy.dob.isnull()].apply(gen_random_age)"
   ]
  },
  {
   "cell_type": "code",
   "execution_count": null,
   "metadata": {},
   "outputs": [],
   "source": [
    "# assemble clean working dataframe\n",
    "# translate column names and explicitly state data type\n",
    "columns_dtypes_dict = {\n",
    "    'id': str, \n",
    "    'age': float, \n",
    "    'sex': str, \n",
    "    'location': str, \n",
    "    'county': str,\n",
    "    'testing_date': datetime.datetime, \n",
    "    'testing_result': bool, \n",
    "    'testing_institute': str,\n",
    "    'hospitalization': bool, \n",
    "    'respirator': bool, \n",
    "    'deceased': bool,\n",
    "    'total_comorbidities': int,\n",
    "}\n",
    "\n",
    "# create empty dataframe with predifined data types\n",
    "columns_dtypes_list = [(k, v) for k, v in columns_dtypes_dict.items()]\n",
    "dtypes = np.dtype(columns_dtypes_list)\n",
    "empty_matrix = np.empty(0, dtype=dtypes)\n",
    "df_w = pd.DataFrame(empty_matrix)\n",
    "\n",
    "# fill the working dataframe with clean data\n",
    "df_w.id = df_tidy.ID_osoba\n",
    "df_w.age = df_tidy.dob\n",
    "df_w.sex = df_tidy.spol\n",
    "df_w.location = df_tidy.Lokacija\n",
    "df_w.county = df_tidy.županija\n",
    "df_w.testing_date = df_tidy.Datum_testiranja\n",
    "df_w.testing_result = df_tidy.Rezultat\n",
    "df_w.testing_institute = df_tidy.Ustanova_koja_je_napravila_testiranja\n",
    "df_w.hospitalization = df_tidy.Hospitalizacija\n",
    "df_w.respirator = df_tidy.Respirator\n",
    "df_w.deceased = df_tidy.preminuli\n",
    "df_w.total_comorbidities = df_tidy.sum_comorbidity\n",
    "df_w"
   ]
  },
  {
   "cell_type": "code",
   "execution_count": null,
   "metadata": {},
   "outputs": [],
   "source": [
    "df_w.describe()"
   ]
  },
  {
   "cell_type": "code",
   "execution_count": null,
   "metadata": {},
   "outputs": [],
   "source": [
    "df_w.to_csv('clean_data_cro.csv', index=False)"
   ]
  }
 ],
 "metadata": {
  "kernelspec": {
   "display_name": "Python 3",
   "language": "python",
   "name": "python3"
  },
  "language_info": {
   "codemirror_mode": {
    "name": "ipython",
    "version": 3
   },
   "file_extension": ".py",
   "mimetype": "text/x-python",
   "name": "python",
   "nbconvert_exporter": "python",
   "pygments_lexer": "ipython3",
   "version": "3.8.5"
  }
 },
 "nbformat": 4,
 "nbformat_minor": 4
}
